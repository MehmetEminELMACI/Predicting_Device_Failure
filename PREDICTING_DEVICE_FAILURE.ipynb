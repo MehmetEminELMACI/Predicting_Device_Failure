{
 "cells": [
  {
   "cell_type": "code",
   "execution_count": 1,
   "metadata": {
    "colab": {
     "base_uri": "https://localhost:8080/"
    },
    "id": "mXAthxpaeqRz",
    "outputId": "fda75712-83ec-4ac0-9f71-67e69a0f65c8"
   },
   "outputs": [
    {
     "name": "stdout",
     "output_type": "stream",
     "text": [
      "Drive already mounted at /content/drive; to attempt to forcibly remount, call drive.mount(\"/content/drive\", force_remount=True).\n"
     ]
    }
   ],
   "source": [
    "from google.colab import drive\n",
    "drive.mount(\"/content/drive\")"
   ]
  },
  {
   "cell_type": "code",
   "execution_count": 2,
   "metadata": {
    "colab": {
     "base_uri": "https://localhost:8080/",
     "height": 35
    },
    "id": "ZcLl_S8leszA",
    "outputId": "1dea89f6-5318-425b-dcba-04559cf2cdec"
   },
   "outputs": [
    {
     "data": {
      "application/vnd.google.colaboratory.intrinsic+json": {
       "type": "string"
      },
      "text/plain": [
       "'from google.colab import files\\nfiles.upload()'"
      ]
     },
     "execution_count": 2,
     "metadata": {
      "tags": []
     },
     "output_type": "execute_result"
    }
   ],
   "source": [
    "from google.colab import files\n",
    "files.upload()"
   ]
  },
  {
   "cell_type": "code",
   "execution_count": 3,
   "metadata": {
    "id": "-DyZ7zNaeucT"
   },
   "outputs": [],
   "source": [
    "import pandas as pd\n",
    "pd.set_option(\"display.max_columns\", 100)\n",
    "import numpy as np\n",
    "\n",
    "\n",
    "import matplotlib.pyplot as plt \n",
    "%matplotlib inline\n",
    "\n",
    "import seaborn as sns\n",
    "\n",
    "\n",
    "from sklearn.model_selection import train_test_split\n",
    "from sklearn.linear_model import LinearRegression, ElasticNet, Ridge, Lasso, LogisticRegression\n",
    "from sklearn.ensemble import GradientBoostingClassifier, RandomForestClassifier\n",
    "from sklearn.metrics import r2_score, mean_squared_error, mean_absolute_error\n",
    "from sklearn.tree import ExtraTreeRegressor, DecisionTreeClassifier\n",
    "\n",
    "import warnings # Uyarilari gozardi etmek için\n",
    "warnings.filterwarnings(\"ignore\")\n",
    "\n",
    "from sklearn.naive_bayes import GaussianNB\n",
    "from sklearn.naive_bayes import BernoulliNB\n",
    "from sklearn.neighbors import KNeighborsClassifier\n",
    "\n",
    "from sklearn.metrics import accuracy_score,precision_score,recall_score,f1_score\n",
    "from sklearn.metrics import confusion_matrix, classification_report"
   ]
  },
  {
   "cell_type": "code",
   "execution_count": 4,
   "metadata": {
    "id": "GXi-rOchhpvr"
   },
   "outputs": [],
   "source": [
    "g = GaussianNB() \n",
    "b = BernoulliNB()\n",
    "k = KNeighborsClassifier()\n",
    "gbc = GradientBoostingClassifier()\n",
    "log = LogisticRegression()\n",
    "d = DecisionTreeClassifier()\n",
    "r = RandomForestClassifier()"
   ]
  },
  {
   "cell_type": "code",
   "execution_count": 5,
   "metadata": {
    "id": "Olb_59C7hqQi"
   },
   "outputs": [],
   "source": [
    "algorithms = [g, b, k, log, gbc, r, d]\n",
    "names = [\"GaussianNB\", \"BernoulliNB\", \"K Nearest\", \"Logistic\", \"GradientBoosting\", \"RandomForest\", \"DesicionTree\"]"
   ]
  },
  {
   "cell_type": "code",
   "execution_count": 6,
   "metadata": {
    "id": "OdyeiHGUhqZj"
   },
   "outputs": [],
   "source": [
    "def algo_test(X, y, algorithms = algorithms, names = names):\n",
    "    for i in range(len(algorithms)):\n",
    "        algorithms[i] = algorithms[i].fit(X, y)\n",
    "    accuracy = []\n",
    "    precision = []\n",
    "    recall = []\n",
    "    f1 = []\n",
    "    for i in range(len(algorithms)):\n",
    "        accuracy.append(accuracy_score(y, algorithms[i].predict(X)))\n",
    "        precision.append(precision_score(y, algorithms[i].predict(X)))\n",
    "        recall.append(recall_score(y, algorithms[i].predict(X)))\n",
    "        f1.append(f1_score(y, algorithms[i].predict(X)))\n",
    "    metrics = pd.DataFrame(columns = [\"Accuracy\", \"Precision\", \"Recall\", \"F1\"], index = names)\n",
    "    metrics[\"Accuracy\"] = accuracy\n",
    "    metrics[\"Precision\"] = precision\n",
    "    metrics[\"Recall\"] = recall\n",
    "    metrics[\"F1\"] = f1\n",
    "    return metrics.sort_values(\"F1\", ascending = False)"
   ]
  },
  {
   "cell_type": "code",
   "execution_count": 7,
   "metadata": {
    "id": "mA2lECUTgrh2"
   },
   "outputs": [],
   "source": [
    "df=pd.read_csv(\"failure.csv\")"
   ]
  },
  {
   "cell_type": "markdown",
   "metadata": {
    "id": "KTfGjRV9gjbZ"
   },
   "source": [
    "### **EDA**"
   ]
  },
  {
   "cell_type": "code",
   "execution_count": 8,
   "metadata": {
    "colab": {
     "base_uri": "https://localhost:8080/",
     "height": 391
    },
    "id": "t21__pBXfZGx",
    "outputId": "1a1501c7-8c77-4e57-96e3-6b7d0f367f40"
   },
   "outputs": [
    {
     "data": {
      "text/html": [
       "<div>\n",
       "<style scoped>\n",
       "    .dataframe tbody tr th:only-of-type {\n",
       "        vertical-align: middle;\n",
       "    }\n",
       "\n",
       "    .dataframe tbody tr th {\n",
       "        vertical-align: top;\n",
       "    }\n",
       "\n",
       "    .dataframe thead th {\n",
       "        text-align: right;\n",
       "    }\n",
       "</style>\n",
       "<table border=\"1\" class=\"dataframe\">\n",
       "  <thead>\n",
       "    <tr style=\"text-align: right;\">\n",
       "      <th></th>\n",
       "      <th>date</th>\n",
       "      <th>device</th>\n",
       "      <th>failure</th>\n",
       "      <th>attribute1</th>\n",
       "      <th>attribute2</th>\n",
       "      <th>attribute3</th>\n",
       "      <th>attribute4</th>\n",
       "      <th>attribute5</th>\n",
       "      <th>attribute6</th>\n",
       "      <th>attribute7</th>\n",
       "      <th>attribute8</th>\n",
       "      <th>attribute9</th>\n",
       "    </tr>\n",
       "  </thead>\n",
       "  <tbody>\n",
       "    <tr>\n",
       "      <th>0</th>\n",
       "      <td>2015-01-01</td>\n",
       "      <td>S1F01085</td>\n",
       "      <td>0</td>\n",
       "      <td>215630672</td>\n",
       "      <td>56</td>\n",
       "      <td>0</td>\n",
       "      <td>52</td>\n",
       "      <td>6</td>\n",
       "      <td>407438</td>\n",
       "      <td>0</td>\n",
       "      <td>0</td>\n",
       "      <td>7</td>\n",
       "    </tr>\n",
       "    <tr>\n",
       "      <th>1</th>\n",
       "      <td>2015-01-01</td>\n",
       "      <td>S1F0166B</td>\n",
       "      <td>0</td>\n",
       "      <td>61370680</td>\n",
       "      <td>0</td>\n",
       "      <td>3</td>\n",
       "      <td>0</td>\n",
       "      <td>6</td>\n",
       "      <td>403174</td>\n",
       "      <td>0</td>\n",
       "      <td>0</td>\n",
       "      <td>0</td>\n",
       "    </tr>\n",
       "    <tr>\n",
       "      <th>2</th>\n",
       "      <td>2015-01-01</td>\n",
       "      <td>S1F01E6Y</td>\n",
       "      <td>0</td>\n",
       "      <td>173295968</td>\n",
       "      <td>0</td>\n",
       "      <td>0</td>\n",
       "      <td>0</td>\n",
       "      <td>12</td>\n",
       "      <td>237394</td>\n",
       "      <td>0</td>\n",
       "      <td>0</td>\n",
       "      <td>0</td>\n",
       "    </tr>\n",
       "    <tr>\n",
       "      <th>3</th>\n",
       "      <td>2015-01-01</td>\n",
       "      <td>S1F01JE0</td>\n",
       "      <td>0</td>\n",
       "      <td>79694024</td>\n",
       "      <td>0</td>\n",
       "      <td>0</td>\n",
       "      <td>0</td>\n",
       "      <td>6</td>\n",
       "      <td>410186</td>\n",
       "      <td>0</td>\n",
       "      <td>0</td>\n",
       "      <td>0</td>\n",
       "    </tr>\n",
       "    <tr>\n",
       "      <th>4</th>\n",
       "      <td>2015-01-01</td>\n",
       "      <td>S1F01R2B</td>\n",
       "      <td>0</td>\n",
       "      <td>135970480</td>\n",
       "      <td>0</td>\n",
       "      <td>0</td>\n",
       "      <td>0</td>\n",
       "      <td>15</td>\n",
       "      <td>313173</td>\n",
       "      <td>0</td>\n",
       "      <td>0</td>\n",
       "      <td>3</td>\n",
       "    </tr>\n",
       "    <tr>\n",
       "      <th>...</th>\n",
       "      <td>...</td>\n",
       "      <td>...</td>\n",
       "      <td>...</td>\n",
       "      <td>...</td>\n",
       "      <td>...</td>\n",
       "      <td>...</td>\n",
       "      <td>...</td>\n",
       "      <td>...</td>\n",
       "      <td>...</td>\n",
       "      <td>...</td>\n",
       "      <td>...</td>\n",
       "      <td>...</td>\n",
       "    </tr>\n",
       "    <tr>\n",
       "      <th>124489</th>\n",
       "      <td>2015-11-02</td>\n",
       "      <td>Z1F0MA1S</td>\n",
       "      <td>0</td>\n",
       "      <td>18310224</td>\n",
       "      <td>0</td>\n",
       "      <td>0</td>\n",
       "      <td>0</td>\n",
       "      <td>10</td>\n",
       "      <td>353705</td>\n",
       "      <td>8</td>\n",
       "      <td>8</td>\n",
       "      <td>0</td>\n",
       "    </tr>\n",
       "    <tr>\n",
       "      <th>124490</th>\n",
       "      <td>2015-11-02</td>\n",
       "      <td>Z1F0Q8RT</td>\n",
       "      <td>0</td>\n",
       "      <td>172556680</td>\n",
       "      <td>96</td>\n",
       "      <td>107</td>\n",
       "      <td>4</td>\n",
       "      <td>11</td>\n",
       "      <td>332792</td>\n",
       "      <td>0</td>\n",
       "      <td>0</td>\n",
       "      <td>13</td>\n",
       "    </tr>\n",
       "    <tr>\n",
       "      <th>124491</th>\n",
       "      <td>2015-11-02</td>\n",
       "      <td>Z1F0QK05</td>\n",
       "      <td>0</td>\n",
       "      <td>19029120</td>\n",
       "      <td>4832</td>\n",
       "      <td>0</td>\n",
       "      <td>0</td>\n",
       "      <td>11</td>\n",
       "      <td>350410</td>\n",
       "      <td>0</td>\n",
       "      <td>0</td>\n",
       "      <td>0</td>\n",
       "    </tr>\n",
       "    <tr>\n",
       "      <th>124492</th>\n",
       "      <td>2015-11-02</td>\n",
       "      <td>Z1F0QL3N</td>\n",
       "      <td>0</td>\n",
       "      <td>226953408</td>\n",
       "      <td>0</td>\n",
       "      <td>0</td>\n",
       "      <td>0</td>\n",
       "      <td>12</td>\n",
       "      <td>358980</td>\n",
       "      <td>0</td>\n",
       "      <td>0</td>\n",
       "      <td>0</td>\n",
       "    </tr>\n",
       "    <tr>\n",
       "      <th>124493</th>\n",
       "      <td>2015-11-02</td>\n",
       "      <td>Z1F0QLC1</td>\n",
       "      <td>0</td>\n",
       "      <td>17572840</td>\n",
       "      <td>0</td>\n",
       "      <td>0</td>\n",
       "      <td>0</td>\n",
       "      <td>10</td>\n",
       "      <td>351431</td>\n",
       "      <td>0</td>\n",
       "      <td>0</td>\n",
       "      <td>0</td>\n",
       "    </tr>\n",
       "  </tbody>\n",
       "</table>\n",
       "<p>124494 rows × 12 columns</p>\n",
       "</div>"
      ],
      "text/plain": [
       "              date    device  failure  attribute1  attribute2  attribute3  \\\n",
       "0       2015-01-01  S1F01085        0   215630672          56           0   \n",
       "1       2015-01-01  S1F0166B        0    61370680           0           3   \n",
       "2       2015-01-01  S1F01E6Y        0   173295968           0           0   \n",
       "3       2015-01-01  S1F01JE0        0    79694024           0           0   \n",
       "4       2015-01-01  S1F01R2B        0   135970480           0           0   \n",
       "...            ...       ...      ...         ...         ...         ...   \n",
       "124489  2015-11-02  Z1F0MA1S        0    18310224           0           0   \n",
       "124490  2015-11-02  Z1F0Q8RT        0   172556680          96         107   \n",
       "124491  2015-11-02  Z1F0QK05        0    19029120        4832           0   \n",
       "124492  2015-11-02  Z1F0QL3N        0   226953408           0           0   \n",
       "124493  2015-11-02  Z1F0QLC1        0    17572840           0           0   \n",
       "\n",
       "        attribute4  attribute5  attribute6  attribute7  attribute8  attribute9  \n",
       "0               52           6      407438           0           0           7  \n",
       "1                0           6      403174           0           0           0  \n",
       "2                0          12      237394           0           0           0  \n",
       "3                0           6      410186           0           0           0  \n",
       "4                0          15      313173           0           0           3  \n",
       "...            ...         ...         ...         ...         ...         ...  \n",
       "124489           0          10      353705           8           8           0  \n",
       "124490           4          11      332792           0           0          13  \n",
       "124491           0          11      350410           0           0           0  \n",
       "124492           0          12      358980           0           0           0  \n",
       "124493           0          10      351431           0           0           0  \n",
       "\n",
       "[124494 rows x 12 columns]"
      ]
     },
     "execution_count": 8,
     "metadata": {
      "tags": []
     },
     "output_type": "execute_result"
    }
   ],
   "source": [
    "df"
   ]
  },
  {
   "cell_type": "code",
   "execution_count": 9,
   "metadata": {
    "colab": {
     "base_uri": "https://localhost:8080/"
    },
    "id": "BUFzw8Nkg0FF",
    "outputId": "160e3c5e-e7a7-46d8-9e93-ce2cd3b2a8ce"
   },
   "outputs": [
    {
     "name": "stdout",
     "output_type": "stream",
     "text": [
      "<class 'pandas.core.frame.DataFrame'>\n",
      "RangeIndex: 124494 entries, 0 to 124493\n",
      "Data columns (total 12 columns):\n",
      " #   Column      Non-Null Count   Dtype \n",
      "---  ------      --------------   ----- \n",
      " 0   date        124494 non-null  object\n",
      " 1   device      124494 non-null  object\n",
      " 2   failure     124494 non-null  int64 \n",
      " 3   attribute1  124494 non-null  int64 \n",
      " 4   attribute2  124494 non-null  int64 \n",
      " 5   attribute3  124494 non-null  int64 \n",
      " 6   attribute4  124494 non-null  int64 \n",
      " 7   attribute5  124494 non-null  int64 \n",
      " 8   attribute6  124494 non-null  int64 \n",
      " 9   attribute7  124494 non-null  int64 \n",
      " 10  attribute8  124494 non-null  int64 \n",
      " 11  attribute9  124494 non-null  int64 \n",
      "dtypes: int64(10), object(2)\n",
      "memory usage: 11.4+ MB\n"
     ]
    }
   ],
   "source": [
    "df.info()"
   ]
  },
  {
   "cell_type": "code",
   "execution_count": 10,
   "metadata": {
    "colab": {
     "base_uri": "https://localhost:8080/"
    },
    "id": "zNXBHEIRg4wS",
    "outputId": "f592c480-3af2-4a77-920e-6e1755c29ec5"
   },
   "outputs": [
    {
     "data": {
      "text/plain": [
       "date          0\n",
       "device        0\n",
       "failure       0\n",
       "attribute1    0\n",
       "attribute2    0\n",
       "attribute3    0\n",
       "attribute4    0\n",
       "attribute5    0\n",
       "attribute6    0\n",
       "attribute7    0\n",
       "attribute8    0\n",
       "attribute9    0\n",
       "dtype: int64"
      ]
     },
     "execution_count": 10,
     "metadata": {
      "tags": []
     },
     "output_type": "execute_result"
    }
   ],
   "source": [
    "df.isnull().sum() # No empty columns"
   ]
  },
  {
   "cell_type": "code",
   "execution_count": 11,
   "metadata": {
    "colab": {
     "base_uri": "https://localhost:8080/"
    },
    "id": "7dSNJz6_g8SW",
    "outputId": "32486d4e-0a01-4ea5-cc77-3dfdb4a8a419"
   },
   "outputs": [
    {
     "data": {
      "text/plain": [
       "failure       1.000000\n",
       "attribute8    0.119055\n",
       "attribute7    0.119055\n",
       "attribute4    0.067398\n",
       "attribute2    0.052902\n",
       "attribute5    0.002270\n",
       "attribute1    0.001984\n",
       "attribute9    0.001622\n",
       "attribute3    0.000948\n",
       "attribute6    0.000550\n",
       "Name: failure, dtype: float64"
      ]
     },
     "execution_count": 11,
     "metadata": {
      "tags": []
     },
     "output_type": "execute_result"
    }
   ],
   "source": [
    "abs(df.corr()[\"failure\"]).sort_values(ascending=False)"
   ]
  },
  {
   "cell_type": "code",
   "execution_count": 12,
   "metadata": {
    "colab": {
     "base_uri": "https://localhost:8080/",
     "height": 417
    },
    "id": "srvQrUfOiARr",
    "outputId": "a58f5150-6d07-4eb9-84a5-a4ffddbdb64d"
   },
   "outputs": [
    {
     "data": {
      "image/png": "[encoded data removed]",
      "text/plain": [
       "<Figure size 684x432 with 2 Axes>"
      ]
     },
     "metadata": {
      "needs_background": "light",
      "tags": []
     },
     "output_type": "display_data"
    }
   ],
   "source": [
    "plt.figure(figsize=(9.5,6))\n",
    "sns.heatmap(df.corr(),annot=True); # attribure7 and attribute8 are same"
   ]
  },
  {
   "cell_type": "markdown",
   "metadata": {},
   "source": [
    "# DATA PREPAIRING AND FUTURE ENGINEERING"
   ]
  },
  {
   "cell_type": "markdown",
   "metadata": {},
   "source": [
    "### attribute7 and attribute8 are same things we are gonna drop attribute8"
   ]
  },
  {
   "cell_type": "code",
   "execution_count": 13,
   "metadata": {
    "colab": {
     "base_uri": "https://localhost:8080/"
    },
    "id": "gYwQ2VRjjjHU",
    "outputId": "0519278a-d0c6-4fc6-dd5d-5dc0c5f190a4"
   },
   "outputs": [
    {
     "data": {
      "text/plain": [
       "Int64Index([     0,      1,      2,      3,      4,      5,      6,      7,\n",
       "                 8,      9,\n",
       "            ...\n",
       "            124484, 124485, 124486, 124487, 124488, 124489, 124490, 124491,\n",
       "            124492, 124493],\n",
       "           dtype='int64', length=124494)"
      ]
     },
     "execution_count": 13,
     "metadata": {
      "tags": []
     },
     "output_type": "execute_result"
    }
   ],
   "source": [
    "df[df.attribute7==df.attribute8].index "
   ]
  },
  {
   "cell_type": "code",
   "execution_count": 14,
   "metadata": {
    "id": "WO6nBX11j2Ms"
   },
   "outputs": [],
   "source": [
    "df.drop(\"attribute8\",axis=1,inplace=True)"
   ]
  },
  {
   "cell_type": "code",
   "execution_count": 15,
   "metadata": {
    "colab": {
     "base_uri": "https://localhost:8080/"
    },
    "id": "yU2T59BIiGDu",
    "outputId": "1563923b-5129-4d12-9325-1b2c3420dd55"
   },
   "outputs": [
    {
     "data": {
      "text/plain": [
       "1168"
      ]
     },
     "execution_count": 15,
     "metadata": {
      "tags": []
     },
     "output_type": "execute_result"
    }
   ],
   "source": [
    "df.device.nunique() #1168 unique devices in 124493 rows   #TOTAL DEVICE"
   ]
  },
  {
   "cell_type": "code",
   "execution_count": 16,
   "metadata": {
    "colab": {
     "base_uri": "https://localhost:8080/"
    },
    "id": "0LE7VztmjO7h",
    "outputId": "e8468137-f33a-4d6e-cfee-7ed0d909446d"
   },
   "outputs": [
    {
     "data": {
      "text/plain": [
       "106"
      ]
     },
     "execution_count": 16,
     "metadata": {
      "tags": []
     },
     "output_type": "execute_result"
    }
   ],
   "source": [
    "df[df.failure==1].device.nunique()"
   ]
  },
  {
   "cell_type": "code",
   "execution_count": 17,
   "metadata": {
    "colab": {
     "base_uri": "https://localhost:8080/"
    },
    "id": "WRew9RSbkJ0z",
    "outputId": "a15046b7-d3a4-438f-8adf-e6f2d8427468"
   },
   "outputs": [
    {
     "data": {
      "text/plain": [
       "1168"
      ]
     },
     "execution_count": 17,
     "metadata": {
      "tags": []
     },
     "output_type": "execute_result"
    }
   ],
   "source": [
    "df[df.failure==0].device.nunique()"
   ]
  },
  {
   "cell_type": "code",
   "execution_count": 18,
   "metadata": {
    "id": "xWpl8eu7kQty"
   },
   "outputs": [],
   "source": [
    "df[\"date\"]=pd.to_datetime(df[\"date\"])\n",
    "df[\"month\"]=(df.date).dt.month"
   ]
  },
  {
   "cell_type": "markdown",
   "metadata": {
    "id": "W1IOmtaCl8UT"
   },
   "source": [
    "### **Date could be important**\n",
    "**Impact of seasonality** "
   ]
  },
  {
   "cell_type": "code",
   "execution_count": 19,
   "metadata": {
    "colab": {
     "base_uri": "https://localhost:8080/"
    },
    "id": "dsVzvdO6kkQK",
    "outputId": "8abbf4d9-4c41-485d-abe3-6d80d2775bfd"
   },
   "outputs": [
    {
     "data": {
      "text/plain": [
       "array([ 1,  2,  3,  4,  5,  6,  7,  8,  9, 10, 11])"
      ]
     },
     "execution_count": 19,
     "metadata": {
      "tags": []
     },
     "output_type": "execute_result"
    }
   ],
   "source": [
    "df.month.unique()"
   ]
  },
  {
   "cell_type": "code",
   "execution_count": 20,
   "metadata": {
    "colab": {
     "base_uri": "https://localhost:8080/",
     "height": 295
    },
    "id": "jSAw23-Dq8rb",
    "outputId": "f5220e21-8c52-4378-e2e7-5e7cee78a5cd"
   },
   "outputs": [
    {
     "data": {
      "text/plain": [
       "<matplotlib.axes._subplots.AxesSubplot at 0x7f262ea81dd0>"
      ]
     },
     "execution_count": 20,
     "metadata": {
      "tags": []
     },
     "output_type": "execute_result"
    },
    {
     "data": {
      "image/png": "[encoded data removed]",
      "text/plain": [
       "<Figure size 432x288 with 1 Axes>"
      ]
     },
     "metadata": {
      "needs_background": "light",
      "tags": []
     },
     "output_type": "display_data"
    }
   ],
   "source": [
    "df.groupby(\"month\")[\"failure\"].mean().plot()"
   ]
  },
  {
   "cell_type": "code",
   "execution_count": 21,
   "metadata": {
    "colab": {
     "base_uri": "https://localhost:8080/"
    },
    "id": "Ecray4H9q9yq",
    "outputId": "c013814b-c8b7-4ef0-8615-32783d886ebc"
   },
   "outputs": [
    {
     "data": {
      "text/plain": [
       "month  failure\n",
       "1      0          25008\n",
       "       1             24\n",
       "2      0          19486\n",
       "       1             14\n",
       "3      0          19824\n",
       "       1              9\n",
       "4      0          12003\n",
       "       1              9\n",
       "5      0          11309\n",
       "       1             21\n",
       "6      0          10463\n",
       "       1              6\n",
       "7      0          10515\n",
       "       1             16\n",
       "8      0           8342\n",
       "       1              4\n",
       "9      0           4470\n",
       "10     0           2937\n",
       "       1              3\n",
       "11     0             31\n",
       "Name: failure, dtype: int64"
      ]
     },
     "execution_count": 21,
     "metadata": {
      "tags": []
     },
     "output_type": "execute_result"
    }
   ],
   "source": [
    "df.groupby(\"month\")[\"failure\"].value_counts()"
   ]
  },
  {
   "cell_type": "markdown",
   "metadata": {
    "id": "kbm1Awv0kZss"
   },
   "source": [
    "**ADD SEASON COLUMN**"
   ]
  },
  {
   "cell_type": "code",
   "execution_count": 22,
   "metadata": {
    "id": "n9fK5F9Bl4Dz"
   },
   "outputs": [],
   "source": [
    "df.loc[df[\"month\"]<12,\"season\"]=\"autumn\"\n",
    "df.loc[df[\"month\"]<9,\"season\"] = \"summer\"\n",
    "df.loc[df[\"month\"]<6,\"season\"] = \"spring\"\n",
    "df.loc[df[\"month\"]<3,\"season\"] = \"winter\""
   ]
  },
  {
   "cell_type": "code",
   "execution_count": 23,
   "metadata": {
    "colab": {
     "base_uri": "https://localhost:8080/",
     "height": 312
    },
    "id": "l_7sFqyRmj4m",
    "outputId": "afa8d4bf-43aa-4020-fece-7f3303ee6777"
   },
   "outputs": [
    {
     "data": {
      "text/plain": [
       "<matplotlib.axes._subplots.AxesSubplot at 0x7f2617f52f50>"
      ]
     },
     "execution_count": 23,
     "metadata": {
      "tags": []
     },
     "output_type": "execute_result"
    },
    {
     "data": {
      "image/png": "[encoded data removed]",
      "text/plain": [
       "<Figure size 432x288 with 1 Axes>"
      ]
     },
     "metadata": {
      "needs_background": "light",
      "tags": []
     },
     "output_type": "display_data"
    }
   ],
   "source": [
    "df.season.value_counts().plot(kind=\"bar\")"
   ]
  },
  {
   "cell_type": "code",
   "execution_count": 24,
   "metadata": {
    "colab": {
     "base_uri": "https://localhost:8080/",
     "height": 347
    },
    "id": "hd60hEFKmpLY",
    "outputId": "6f5cc5fb-3673-492d-8c28-dae32eae259e"
   },
   "outputs": [
    {
     "data": {
      "text/plain": [
       "<matplotlib.axes._subplots.AxesSubplot at 0x7f260fdbc4d0>"
      ]
     },
     "execution_count": 24,
     "metadata": {
      "tags": []
     },
     "output_type": "execute_result"
    },
    {
     "data": {
      "image/png": "[encoded data removed]",
      "text/plain": [
       "<Figure size 432x288 with 1 Axes>"
      ]
     },
     "metadata": {
      "needs_background": "light",
      "tags": []
     },
     "output_type": "display_data"
    }
   ],
   "source": [
    "df.groupby(\"failure\")[\"season\"].value_counts().plot(kind=\"bar\") # There is but so little"
   ]
  },
  {
   "cell_type": "code",
   "execution_count": 25,
   "metadata": {
    "id": "HgbdcDDqpu3L"
   },
   "outputs": [],
   "source": [
    "non_failure=df[df.failure==1].device.unique()"
   ]
  },
  {
   "cell_type": "code",
   "execution_count": 26,
   "metadata": {
    "colab": {
     "base_uri": "https://localhost:8080/"
    },
    "id": "bToQhyxVmzW_",
    "outputId": "be6b8110-c342-4564-eefc-6daafbb9f24b"
   },
   "outputs": [
    {
     "data": {
      "text/plain": [
       "106"
      ]
     },
     "execution_count": 26,
     "metadata": {
      "tags": []
     },
     "output_type": "execute_result"
    }
   ],
   "source": [
    "df[df.device.isin(non_failure)].device.nunique()"
   ]
  },
  {
   "cell_type": "code",
   "execution_count": 27,
   "metadata": {
    "colab": {
     "base_uri": "https://localhost:8080/"
    },
    "id": "W-8rM_dZp4WC",
    "outputId": "b8f0e9b4-bbac-4250-c3af-c7d973b46a21"
   },
   "outputs": [
    {
     "data": {
      "text/plain": [
       "1062"
      ]
     },
     "execution_count": 27,
     "metadata": {
      "tags": []
     },
     "output_type": "execute_result"
    }
   ],
   "source": [
    "df[-df.device.isin(non_failure)].device.nunique()"
   ]
  },
  {
   "cell_type": "code",
   "execution_count": 28,
   "metadata": {
    "colab": {
     "base_uri": "https://localhost:8080/"
    },
    "id": "xMbq3sOHp9-A",
    "outputId": "e1f72bcd-0c69-4c38-c8b6-a81566db9923"
   },
   "outputs": [
    {
     "data": {
      "text/plain": [
       "1168"
      ]
     },
     "execution_count": 28,
     "metadata": {
      "tags": []
     },
     "output_type": "execute_result"
    }
   ],
   "source": [
    "df.device.nunique()"
   ]
  },
  {
   "cell_type": "code",
   "execution_count": 29,
   "metadata": {
    "colab": {
     "base_uri": "https://localhost:8080/"
    },
    "id": "76WZBtBkqY9E",
    "outputId": "314ddf42-2b1c-4109-d467-c18bde42ce25"
   },
   "outputs": [
    {
     "data": {
      "text/plain": [
       "device\n",
       "S1F01085   2015-01-06\n",
       "S1F013BB   2015-05-11\n",
       "S1F0166B   2015-01-06\n",
       "S1F01E6Y   2015-02-17\n",
       "S1F01JE0   2015-01-06\n",
       "              ...    \n",
       "Z1F1VMZB   2015-10-19\n",
       "Z1F1VQFY   2015-06-30\n",
       "Z1F26YZB   2015-03-25\n",
       "Z1F282ZV   2015-03-25\n",
       "Z1F2PBHX   2015-04-06\n",
       "Name: date, Length: 1168, dtype: datetime64[ns]"
      ]
     },
     "execution_count": 29,
     "metadata": {
      "tags": []
     },
     "output_type": "execute_result"
    }
   ],
   "source": [
    "df.groupby([\"device\"])[\"date\"].max()"
   ]
  },
  {
   "cell_type": "code",
   "execution_count": 30,
   "metadata": {
    "colab": {
     "base_uri": "https://localhost:8080/"
    },
    "id": "9Mq6M3W5utUV",
    "outputId": "ad247d6a-1481-402d-965c-b834fb156d65"
   },
   "outputs": [
    {
     "data": {
      "text/plain": [
       "device\n",
       "S1F01085    0\n",
       "S1F013BB    0\n",
       "S1F0166B    0\n",
       "S1F01E6Y    0\n",
       "S1F01JE0    0\n",
       "           ..\n",
       "Z1F1VMZB    0\n",
       "Z1F1VQFY    1\n",
       "Z1F26YZB    0\n",
       "Z1F282ZV    0\n",
       "Z1F2PBHX    0\n",
       "Name: failure, Length: 1168, dtype: int64"
      ]
     },
     "execution_count": 30,
     "metadata": {
      "tags": []
     },
     "output_type": "execute_result"
    }
   ],
   "source": [
    "df.groupby([\"device\"])[\"failure\"].max()"
   ]
  },
  {
   "cell_type": "markdown",
   "metadata": {
    "id": "SB7WNMhHmcr7"
   },
   "source": [
    "**WHY MAX VALUE**"
   ]
  },
  {
   "cell_type": "code",
   "execution_count": 31,
   "metadata": {
    "colab": {
     "base_uri": "https://localhost:8080/",
     "height": 330
    },
    "id": "G0chYlW1wBCM",
    "outputId": "2cadabdf-f0b8-40e3-f563-d20a90e8d2fb"
   },
   "outputs": [
    {
     "data": {
      "text/plain": [
       "device\n",
       "False    AxesSubplot(0.125,0.125;0.775x0.755)\n",
       "True     AxesSubplot(0.125,0.125;0.775x0.755)\n",
       "Name: date, dtype: object"
      ]
     },
     "execution_count": 31,
     "metadata": {
      "tags": []
     },
     "output_type": "execute_result"
    },
    {
     "data": {
      "image/png": "[encoded data removed]",
      "text/plain": [
       "<Figure size 432x288 with 1 Axes>"
      ]
     },
     "metadata": {
      "needs_background": "light",
      "tags": []
     },
     "output_type": "display_data"
    }
   ],
   "source": [
    "df.groupby(df.device==\"Z1F1VQFY\")[\"date\"].plot() # a devide save processing #WHY MAX VALUE"
   ]
  },
  {
   "cell_type": "code",
   "execution_count": 32,
   "metadata": {
    "id": "TosxnzHSv6k6"
   },
   "outputs": [],
   "source": [
    "new_df=pd.DataFrame()"
   ]
  },
  {
   "cell_type": "code",
   "execution_count": 33,
   "metadata": {
    "colab": {
     "base_uri": "https://localhost:8080/"
    },
    "id": "8kETajrQyLq-",
    "outputId": "3dd109a0-cf83-480a-8d6d-bb0a75ea5983"
   },
   "outputs": [
    {
     "data": {
      "text/plain": [
       "device\n",
       "S1F01085      5\n",
       "S1F013BB      5\n",
       "S1F0166B      5\n",
       "S1F01E6Y     47\n",
       "S1F01JE0      5\n",
       "           ... \n",
       "Z1F1VMZB    291\n",
       "Z1F1VQFY    180\n",
       "Z1F26YZB     83\n",
       "Z1F282ZV     83\n",
       "Z1F2PBHX     95\n",
       "Name: process_time, Length: 1168, dtype: int64"
      ]
     },
     "execution_count": 33,
     "metadata": {
      "tags": []
     },
     "output_type": "execute_result"
    }
   ],
   "source": [
    "new_df[\"process_time\"]=df.groupby(\"device\")[\"date\"].max()-df.groupby(\"device\")[\"date\"].min()\n",
    "new_df[\"process_time\"]=new_df[\"process_time\"].dt.days\n",
    "new_df[\"process_time\"]"
   ]
  },
  {
   "cell_type": "code",
   "execution_count": 34,
   "metadata": {
    "colab": {
     "base_uri": "https://localhost:8080/"
    },
    "id": "MBDLXaCyzq8O",
    "outputId": "5ec4ff27-974e-4530-e99c-50bcdc4c0323"
   },
   "outputs": [
    {
     "data": {
      "text/plain": [
       "device\n",
       "S1F01085     1966\n",
       "S1F013BB      209\n",
       "S1F0166B     1612\n",
       "S1F01E6Y    22097\n",
       "S1F01JE0     1965\n",
       "            ...  \n",
       "Z1F1VMZB    77016\n",
       "Z1F1VQFY    41296\n",
       "Z1F26YZB    20406\n",
       "Z1F282ZV    21311\n",
       "Z1F2PBHX    16012\n",
       "Name: total_mileage, Length: 1168, dtype: int64"
      ]
     },
     "execution_count": 34,
     "metadata": {
      "tags": []
     },
     "output_type": "execute_result"
    }
   ],
   "source": [
    "new_df[\"total_mileage\"]=df.groupby(\"device\")[\"attribute6\"].max()-df.groupby(\"device\")[\"attribute6\"].min()\n",
    "new_df[\"total_mileage\"]"
   ]
  },
  {
   "cell_type": "code",
   "execution_count": 35,
   "metadata": {
    "id": "FDM2A1E40xLi"
   },
   "outputs": [],
   "source": [
    "new_df[\"att1\"]=df.groupby(\"device\")[\"attribute1\"].max()/8"
   ]
  },
  {
   "cell_type": "code",
   "execution_count": 36,
   "metadata": {
    "id": "QNu0RWtt1jl_"
   },
   "outputs": [],
   "source": [
    "new_df[\"att2\"]=df.groupby(\"device\")[\"attribute2\"].max()/2"
   ]
  },
  {
   "cell_type": "code",
   "execution_count": 37,
   "metadata": {
    "id": "HPMu83F31zjX"
   },
   "outputs": [],
   "source": [
    "new_df[\"att3v9\"]=df.groupby(\"device\")[\"attribute3\"].max()"
   ]
  },
  {
   "cell_type": "code",
   "execution_count": 38,
   "metadata": {
    "id": "dua6lH5k2F0i"
   },
   "outputs": [],
   "source": [
    "new_df[\"att4\"]=df.groupby(\"device\")[\"attribute4\"].max()"
   ]
  },
  {
   "cell_type": "code",
   "execution_count": 39,
   "metadata": {
    "id": "f-RrAfMA2l9y"
   },
   "outputs": [],
   "source": [
    "new_df[\"att5\"]=df.groupby(\"device\")[\"attribute5\"].max()"
   ]
  },
  {
   "cell_type": "code",
   "execution_count": 40,
   "metadata": {
    "id": "_MrFmsy22pPh"
   },
   "outputs": [],
   "source": [
    "new_df[\"att7\"]=df.groupby(\"device\")[\"attribute7\"].max()"
   ]
  },
  {
   "cell_type": "code",
   "execution_count": 41,
   "metadata": {
    "id": "mHkF9tP53BmB"
   },
   "outputs": [],
   "source": [
    "new_df[\"failure\"]=df.groupby(\"device\")[\"failure\"].max()"
   ]
  },
  {
   "cell_type": "code",
   "execution_count": 42,
   "metadata": {
    "id": "i1TgS8x_3Ubs"
   },
   "outputs": [],
   "source": [
    "new_df[\"month\"]=df.groupby(\"device\")[\"month\"].max()"
   ]
  },
  {
   "cell_type": "code",
   "execution_count": 43,
   "metadata": {
    "id": "lyY2wxqx3of9"
   },
   "outputs": [],
   "source": [
    "new_df.loc[new_df[\"month\"]<12,\"season\"]=\"autumn\"\n",
    "new_df.loc[new_df[\"month\"]<9,\"season\"] = \"summer\"\n",
    "new_df.loc[new_df[\"month\"]<6,\"season\"] = \"spring\"\n",
    "new_df.loc[new_df[\"month\"]<3,\"season\"] = \"winter\""
   ]
  },
  {
   "cell_type": "code",
   "execution_count": 44,
   "metadata": {
    "colab": {
     "base_uri": "https://localhost:8080/",
     "height": 420
    },
    "id": "qF1_qshT344T",
    "outputId": "3eab5d16-ebd1-4d9e-8df5-795f336eb97c"
   },
   "outputs": [
    {
     "data": {
      "text/html": [
       "<div>\n",
       "<style scoped>\n",
       "    .dataframe tbody tr th:only-of-type {\n",
       "        vertical-align: middle;\n",
       "    }\n",
       "\n",
       "    .dataframe tbody tr th {\n",
       "        vertical-align: top;\n",
       "    }\n",
       "\n",
       "    .dataframe thead th {\n",
       "        text-align: right;\n",
       "    }\n",
       "</style>\n",
       "<table border=\"1\" class=\"dataframe\">\n",
       "  <thead>\n",
       "    <tr style=\"text-align: right;\">\n",
       "      <th></th>\n",
       "      <th>process_time</th>\n",
       "      <th>total_mileage</th>\n",
       "      <th>att1</th>\n",
       "      <th>att2</th>\n",
       "      <th>att3v9</th>\n",
       "      <th>att4</th>\n",
       "      <th>att5</th>\n",
       "      <th>att7</th>\n",
       "      <th>failure</th>\n",
       "      <th>month</th>\n",
       "      <th>season</th>\n",
       "    </tr>\n",
       "    <tr>\n",
       "      <th>device</th>\n",
       "      <th></th>\n",
       "      <th></th>\n",
       "      <th></th>\n",
       "      <th></th>\n",
       "      <th></th>\n",
       "      <th></th>\n",
       "      <th></th>\n",
       "      <th></th>\n",
       "      <th></th>\n",
       "      <th></th>\n",
       "      <th></th>\n",
       "    </tr>\n",
       "  </thead>\n",
       "  <tbody>\n",
       "    <tr>\n",
       "      <th>S1F01085</th>\n",
       "      <td>5</td>\n",
       "      <td>1966</td>\n",
       "      <td>26953834.0</td>\n",
       "      <td>28.0</td>\n",
       "      <td>0</td>\n",
       "      <td>52</td>\n",
       "      <td>6</td>\n",
       "      <td>0</td>\n",
       "      <td>0</td>\n",
       "      <td>1</td>\n",
       "      <td>winter</td>\n",
       "    </tr>\n",
       "    <tr>\n",
       "      <th>S1F013BB</th>\n",
       "      <td>5</td>\n",
       "      <td>209</td>\n",
       "      <td>30418260.0</td>\n",
       "      <td>0.0</td>\n",
       "      <td>0</td>\n",
       "      <td>0</td>\n",
       "      <td>5</td>\n",
       "      <td>0</td>\n",
       "      <td>0</td>\n",
       "      <td>5</td>\n",
       "      <td>spring</td>\n",
       "    </tr>\n",
       "    <tr>\n",
       "      <th>S1F0166B</th>\n",
       "      <td>5</td>\n",
       "      <td>1612</td>\n",
       "      <td>28042412.0</td>\n",
       "      <td>0.0</td>\n",
       "      <td>3</td>\n",
       "      <td>0</td>\n",
       "      <td>6</td>\n",
       "      <td>0</td>\n",
       "      <td>0</td>\n",
       "      <td>1</td>\n",
       "      <td>winter</td>\n",
       "    </tr>\n",
       "    <tr>\n",
       "      <th>S1F01E6Y</th>\n",
       "      <td>47</td>\n",
       "      <td>22097</td>\n",
       "      <td>30032246.0</td>\n",
       "      <td>0.0</td>\n",
       "      <td>0</td>\n",
       "      <td>0</td>\n",
       "      <td>12</td>\n",
       "      <td>0</td>\n",
       "      <td>0</td>\n",
       "      <td>2</td>\n",
       "      <td>winter</td>\n",
       "    </tr>\n",
       "    <tr>\n",
       "      <th>S1F01JE0</th>\n",
       "      <td>5</td>\n",
       "      <td>1965</td>\n",
       "      <td>29445357.0</td>\n",
       "      <td>0.0</td>\n",
       "      <td>0</td>\n",
       "      <td>0</td>\n",
       "      <td>6</td>\n",
       "      <td>0</td>\n",
       "      <td>0</td>\n",
       "      <td>1</td>\n",
       "      <td>winter</td>\n",
       "    </tr>\n",
       "    <tr>\n",
       "      <th>...</th>\n",
       "      <td>...</td>\n",
       "      <td>...</td>\n",
       "      <td>...</td>\n",
       "      <td>...</td>\n",
       "      <td>...</td>\n",
       "      <td>...</td>\n",
       "      <td>...</td>\n",
       "      <td>...</td>\n",
       "      <td>...</td>\n",
       "      <td>...</td>\n",
       "      <td>...</td>\n",
       "    </tr>\n",
       "    <tr>\n",
       "      <th>Z1F1VMZB</th>\n",
       "      <td>291</td>\n",
       "      <td>77016</td>\n",
       "      <td>30295174.0</td>\n",
       "      <td>0.0</td>\n",
       "      <td>0</td>\n",
       "      <td>0</td>\n",
       "      <td>5</td>\n",
       "      <td>0</td>\n",
       "      <td>0</td>\n",
       "      <td>10</td>\n",
       "      <td>autumn</td>\n",
       "    </tr>\n",
       "    <tr>\n",
       "      <th>Z1F1VQFY</th>\n",
       "      <td>180</td>\n",
       "      <td>41296</td>\n",
       "      <td>30383980.0</td>\n",
       "      <td>0.0</td>\n",
       "      <td>0</td>\n",
       "      <td>0</td>\n",
       "      <td>7</td>\n",
       "      <td>0</td>\n",
       "      <td>1</td>\n",
       "      <td>6</td>\n",
       "      <td>summer</td>\n",
       "    </tr>\n",
       "    <tr>\n",
       "      <th>Z1F26YZB</th>\n",
       "      <td>83</td>\n",
       "      <td>20406</td>\n",
       "      <td>30242296.0</td>\n",
       "      <td>0.0</td>\n",
       "      <td>1</td>\n",
       "      <td>0</td>\n",
       "      <td>1</td>\n",
       "      <td>0</td>\n",
       "      <td>0</td>\n",
       "      <td>3</td>\n",
       "      <td>spring</td>\n",
       "    </tr>\n",
       "    <tr>\n",
       "      <th>Z1F282ZV</th>\n",
       "      <td>83</td>\n",
       "      <td>21311</td>\n",
       "      <td>30396162.0</td>\n",
       "      <td>0.0</td>\n",
       "      <td>1</td>\n",
       "      <td>0</td>\n",
       "      <td>1</td>\n",
       "      <td>0</td>\n",
       "      <td>0</td>\n",
       "      <td>3</td>\n",
       "      <td>spring</td>\n",
       "    </tr>\n",
       "    <tr>\n",
       "      <th>Z1F2PBHX</th>\n",
       "      <td>95</td>\n",
       "      <td>16012</td>\n",
       "      <td>30491983.0</td>\n",
       "      <td>0.0</td>\n",
       "      <td>0</td>\n",
       "      <td>0</td>\n",
       "      <td>5</td>\n",
       "      <td>0</td>\n",
       "      <td>0</td>\n",
       "      <td>4</td>\n",
       "      <td>spring</td>\n",
       "    </tr>\n",
       "  </tbody>\n",
       "</table>\n",
       "<p>1168 rows × 11 columns</p>\n",
       "</div>"
      ],
      "text/plain": [
       "          process_time  total_mileage        att1  att2  att3v9  att4  att5  \\\n",
       "device                                                                        \n",
       "S1F01085             5           1966  26953834.0  28.0       0    52     6   \n",
       "S1F013BB             5            209  30418260.0   0.0       0     0     5   \n",
       "S1F0166B             5           1612  28042412.0   0.0       3     0     6   \n",
       "S1F01E6Y            47          22097  30032246.0   0.0       0     0    12   \n",
       "S1F01JE0             5           1965  29445357.0   0.0       0     0     6   \n",
       "...                ...            ...         ...   ...     ...   ...   ...   \n",
       "Z1F1VMZB           291          77016  30295174.0   0.0       0     0     5   \n",
       "Z1F1VQFY           180          41296  30383980.0   0.0       0     0     7   \n",
       "Z1F26YZB            83          20406  30242296.0   0.0       1     0     1   \n",
       "Z1F282ZV            83          21311  30396162.0   0.0       1     0     1   \n",
       "Z1F2PBHX            95          16012  30491983.0   0.0       0     0     5   \n",
       "\n",
       "          att7  failure  month  season  \n",
       "device                                  \n",
       "S1F01085     0        0      1  winter  \n",
       "S1F013BB     0        0      5  spring  \n",
       "S1F0166B     0        0      1  winter  \n",
       "S1F01E6Y     0        0      2  winter  \n",
       "S1F01JE0     0        0      1  winter  \n",
       "...        ...      ...    ...     ...  \n",
       "Z1F1VMZB     0        0     10  autumn  \n",
       "Z1F1VQFY     0        1      6  summer  \n",
       "Z1F26YZB     0        0      3  spring  \n",
       "Z1F282ZV     0        0      3  spring  \n",
       "Z1F2PBHX     0        0      4  spring  \n",
       "\n",
       "[1168 rows x 11 columns]"
      ]
     },
     "execution_count": 44,
     "metadata": {
      "tags": []
     },
     "output_type": "execute_result"
    }
   ],
   "source": [
    "new_df"
   ]
  },
  {
   "cell_type": "code",
   "execution_count": 45,
   "metadata": {
    "colab": {
     "base_uri": "https://localhost:8080/"
    },
    "id": "zw8rtG8A38-g",
    "outputId": "974fa3a0-a434-4da8-871d-373599a8b953"
   },
   "outputs": [
    {
     "data": {
      "text/plain": [
       "device\n",
       "S1F01085    S1F\n",
       "S1F013BB    S1F\n",
       "S1F0166B    S1F\n",
       "S1F01E6Y    S1F\n",
       "S1F01JE0    S1F\n",
       "           ... \n",
       "Z1F1VMZB    Z1F\n",
       "Z1F1VQFY    Z1F\n",
       "Z1F26YZB    Z1F\n",
       "Z1F282ZV    Z1F\n",
       "Z1F2PBHX    Z1F\n",
       "Name: device_type, Length: 1168, dtype: object"
      ]
     },
     "execution_count": 45,
     "metadata": {
      "tags": []
     },
     "output_type": "execute_result"
    }
   ],
   "source": [
    "liste=list()\n",
    "\n",
    "for i in df.groupby(\"device\")[\"device\"]:\n",
    "  liste.append(i[0][0:3])\n",
    "\n",
    "new_df[\"device_type\"]=liste\n",
    "new_df[\"device_type\"]"
   ]
  },
  {
   "cell_type": "code",
   "execution_count": 46,
   "metadata": {
    "colab": {
     "base_uri": "https://localhost:8080/",
     "height": 420
    },
    "id": "qJ_XUmXa4rgy",
    "outputId": "f99615c0-d8ed-4911-8108-e221635fc5f8"
   },
   "outputs": [
    {
     "data": {
      "text/html": [
       "<div>\n",
       "<style scoped>\n",
       "    .dataframe tbody tr th:only-of-type {\n",
       "        vertical-align: middle;\n",
       "    }\n",
       "\n",
       "    .dataframe tbody tr th {\n",
       "        vertical-align: top;\n",
       "    }\n",
       "\n",
       "    .dataframe thead th {\n",
       "        text-align: right;\n",
       "    }\n",
       "</style>\n",
       "<table border=\"1\" class=\"dataframe\">\n",
       "  <thead>\n",
       "    <tr style=\"text-align: right;\">\n",
       "      <th></th>\n",
       "      <th>process_time</th>\n",
       "      <th>total_mileage</th>\n",
       "      <th>att1</th>\n",
       "      <th>att2</th>\n",
       "      <th>att3v9</th>\n",
       "      <th>att4</th>\n",
       "      <th>att5</th>\n",
       "      <th>att7</th>\n",
       "      <th>failure</th>\n",
       "      <th>month</th>\n",
       "      <th>season</th>\n",
       "      <th>device_type</th>\n",
       "    </tr>\n",
       "    <tr>\n",
       "      <th>device</th>\n",
       "      <th></th>\n",
       "      <th></th>\n",
       "      <th></th>\n",
       "      <th></th>\n",
       "      <th></th>\n",
       "      <th></th>\n",
       "      <th></th>\n",
       "      <th></th>\n",
       "      <th></th>\n",
       "      <th></th>\n",
       "      <th></th>\n",
       "      <th></th>\n",
       "    </tr>\n",
       "  </thead>\n",
       "  <tbody>\n",
       "    <tr>\n",
       "      <th>S1F01085</th>\n",
       "      <td>5</td>\n",
       "      <td>1966</td>\n",
       "      <td>26953834.0</td>\n",
       "      <td>28.0</td>\n",
       "      <td>0</td>\n",
       "      <td>52</td>\n",
       "      <td>6</td>\n",
       "      <td>0</td>\n",
       "      <td>0</td>\n",
       "      <td>1</td>\n",
       "      <td>winter</td>\n",
       "      <td>S1F</td>\n",
       "    </tr>\n",
       "    <tr>\n",
       "      <th>S1F013BB</th>\n",
       "      <td>5</td>\n",
       "      <td>209</td>\n",
       "      <td>30418260.0</td>\n",
       "      <td>0.0</td>\n",
       "      <td>0</td>\n",
       "      <td>0</td>\n",
       "      <td>5</td>\n",
       "      <td>0</td>\n",
       "      <td>0</td>\n",
       "      <td>5</td>\n",
       "      <td>spring</td>\n",
       "      <td>S1F</td>\n",
       "    </tr>\n",
       "    <tr>\n",
       "      <th>S1F0166B</th>\n",
       "      <td>5</td>\n",
       "      <td>1612</td>\n",
       "      <td>28042412.0</td>\n",
       "      <td>0.0</td>\n",
       "      <td>3</td>\n",
       "      <td>0</td>\n",
       "      <td>6</td>\n",
       "      <td>0</td>\n",
       "      <td>0</td>\n",
       "      <td>1</td>\n",
       "      <td>winter</td>\n",
       "      <td>S1F</td>\n",
       "    </tr>\n",
       "    <tr>\n",
       "      <th>S1F01E6Y</th>\n",
       "      <td>47</td>\n",
       "      <td>22097</td>\n",
       "      <td>30032246.0</td>\n",
       "      <td>0.0</td>\n",
       "      <td>0</td>\n",
       "      <td>0</td>\n",
       "      <td>12</td>\n",
       "      <td>0</td>\n",
       "      <td>0</td>\n",
       "      <td>2</td>\n",
       "      <td>winter</td>\n",
       "      <td>S1F</td>\n",
       "    </tr>\n",
       "    <tr>\n",
       "      <th>S1F01JE0</th>\n",
       "      <td>5</td>\n",
       "      <td>1965</td>\n",
       "      <td>29445357.0</td>\n",
       "      <td>0.0</td>\n",
       "      <td>0</td>\n",
       "      <td>0</td>\n",
       "      <td>6</td>\n",
       "      <td>0</td>\n",
       "      <td>0</td>\n",
       "      <td>1</td>\n",
       "      <td>winter</td>\n",
       "      <td>S1F</td>\n",
       "    </tr>\n",
       "    <tr>\n",
       "      <th>...</th>\n",
       "      <td>...</td>\n",
       "      <td>...</td>\n",
       "      <td>...</td>\n",
       "      <td>...</td>\n",
       "      <td>...</td>\n",
       "      <td>...</td>\n",
       "      <td>...</td>\n",
       "      <td>...</td>\n",
       "      <td>...</td>\n",
       "      <td>...</td>\n",
       "      <td>...</td>\n",
       "      <td>...</td>\n",
       "    </tr>\n",
       "    <tr>\n",
       "      <th>Z1F1VMZB</th>\n",
       "      <td>291</td>\n",
       "      <td>77016</td>\n",
       "      <td>30295174.0</td>\n",
       "      <td>0.0</td>\n",
       "      <td>0</td>\n",
       "      <td>0</td>\n",
       "      <td>5</td>\n",
       "      <td>0</td>\n",
       "      <td>0</td>\n",
       "      <td>10</td>\n",
       "      <td>autumn</td>\n",
       "      <td>Z1F</td>\n",
       "    </tr>\n",
       "    <tr>\n",
       "      <th>Z1F1VQFY</th>\n",
       "      <td>180</td>\n",
       "      <td>41296</td>\n",
       "      <td>30383980.0</td>\n",
       "      <td>0.0</td>\n",
       "      <td>0</td>\n",
       "      <td>0</td>\n",
       "      <td>7</td>\n",
       "      <td>0</td>\n",
       "      <td>1</td>\n",
       "      <td>6</td>\n",
       "      <td>summer</td>\n",
       "      <td>Z1F</td>\n",
       "    </tr>\n",
       "    <tr>\n",
       "      <th>Z1F26YZB</th>\n",
       "      <td>83</td>\n",
       "      <td>20406</td>\n",
       "      <td>30242296.0</td>\n",
       "      <td>0.0</td>\n",
       "      <td>1</td>\n",
       "      <td>0</td>\n",
       "      <td>1</td>\n",
       "      <td>0</td>\n",
       "      <td>0</td>\n",
       "      <td>3</td>\n",
       "      <td>spring</td>\n",
       "      <td>Z1F</td>\n",
       "    </tr>\n",
       "    <tr>\n",
       "      <th>Z1F282ZV</th>\n",
       "      <td>83</td>\n",
       "      <td>21311</td>\n",
       "      <td>30396162.0</td>\n",
       "      <td>0.0</td>\n",
       "      <td>1</td>\n",
       "      <td>0</td>\n",
       "      <td>1</td>\n",
       "      <td>0</td>\n",
       "      <td>0</td>\n",
       "      <td>3</td>\n",
       "      <td>spring</td>\n",
       "      <td>Z1F</td>\n",
       "    </tr>\n",
       "    <tr>\n",
       "      <th>Z1F2PBHX</th>\n",
       "      <td>95</td>\n",
       "      <td>16012</td>\n",
       "      <td>30491983.0</td>\n",
       "      <td>0.0</td>\n",
       "      <td>0</td>\n",
       "      <td>0</td>\n",
       "      <td>5</td>\n",
       "      <td>0</td>\n",
       "      <td>0</td>\n",
       "      <td>4</td>\n",
       "      <td>spring</td>\n",
       "      <td>Z1F</td>\n",
       "    </tr>\n",
       "  </tbody>\n",
       "</table>\n",
       "<p>1168 rows × 12 columns</p>\n",
       "</div>"
      ],
      "text/plain": [
       "          process_time  total_mileage        att1  att2  att3v9  att4  att5  \\\n",
       "device                                                                        \n",
       "S1F01085             5           1966  26953834.0  28.0       0    52     6   \n",
       "S1F013BB             5            209  30418260.0   0.0       0     0     5   \n",
       "S1F0166B             5           1612  28042412.0   0.0       3     0     6   \n",
       "S1F01E6Y            47          22097  30032246.0   0.0       0     0    12   \n",
       "S1F01JE0             5           1965  29445357.0   0.0       0     0     6   \n",
       "...                ...            ...         ...   ...     ...   ...   ...   \n",
       "Z1F1VMZB           291          77016  30295174.0   0.0       0     0     5   \n",
       "Z1F1VQFY           180          41296  30383980.0   0.0       0     0     7   \n",
       "Z1F26YZB            83          20406  30242296.0   0.0       1     0     1   \n",
       "Z1F282ZV            83          21311  30396162.0   0.0       1     0     1   \n",
       "Z1F2PBHX            95          16012  30491983.0   0.0       0     0     5   \n",
       "\n",
       "          att7  failure  month  season device_type  \n",
       "device                                              \n",
       "S1F01085     0        0      1  winter         S1F  \n",
       "S1F013BB     0        0      5  spring         S1F  \n",
       "S1F0166B     0        0      1  winter         S1F  \n",
       "S1F01E6Y     0        0      2  winter         S1F  \n",
       "S1F01JE0     0        0      1  winter         S1F  \n",
       "...        ...      ...    ...     ...         ...  \n",
       "Z1F1VMZB     0        0     10  autumn         Z1F  \n",
       "Z1F1VQFY     0        1      6  summer         Z1F  \n",
       "Z1F26YZB     0        0      3  spring         Z1F  \n",
       "Z1F282ZV     0        0      3  spring         Z1F  \n",
       "Z1F2PBHX     0        0      4  spring         Z1F  \n",
       "\n",
       "[1168 rows x 12 columns]"
      ]
     },
     "execution_count": 46,
     "metadata": {
      "tags": []
     },
     "output_type": "execute_result"
    }
   ],
   "source": [
    "new_df"
   ]
  },
  {
   "cell_type": "code",
   "execution_count": 47,
   "metadata": {
    "colab": {
     "base_uri": "https://localhost:8080/"
    },
    "id": "qfsqKkXx5sa4",
    "outputId": "0df7b180-67dc-4e1d-9a51-a97d42d511c6"
   },
   "outputs": [
    {
     "name": "stdout",
     "output_type": "stream",
     "text": [
      "<class 'pandas.core.frame.DataFrame'>\n",
      "Index: 1168 entries, S1F01085 to Z1F2PBHX\n",
      "Data columns (total 12 columns):\n",
      " #   Column         Non-Null Count  Dtype  \n",
      "---  ------         --------------  -----  \n",
      " 0   process_time   1168 non-null   int64  \n",
      " 1   total_mileage  1168 non-null   int64  \n",
      " 2   att1           1168 non-null   float64\n",
      " 3   att2           1168 non-null   float64\n",
      " 4   att3v9         1168 non-null   int64  \n",
      " 5   att4           1168 non-null   int64  \n",
      " 6   att5           1168 non-null   int64  \n",
      " 7   att7           1168 non-null   int64  \n",
      " 8   failure        1168 non-null   int64  \n",
      " 9   month          1168 non-null   int64  \n",
      " 10  season         1168 non-null   object \n",
      " 11  device_type    1168 non-null   object \n",
      "dtypes: float64(2), int64(8), object(2)\n",
      "memory usage: 158.6+ KB\n"
     ]
    }
   ],
   "source": [
    "new_df.info()"
   ]
  },
  {
   "cell_type": "code",
   "execution_count": 48,
   "metadata": {
    "id": "s7X72JFL8JIo"
   },
   "outputs": [],
   "source": [
    "new_df[\"att2\"]=new_df[\"att2\"].astype(\"category\")\n",
    "new_df[\"att3v9\"]=new_df[\"att3v9\"].astype(\"category\")\n",
    "new_df[\"att4\"]=new_df[\"att4\"].astype(\"category\")\n",
    "new_df[\"att5\"]=new_df[\"att5\"].astype(\"category\")\n",
    "new_df[\"att7\"]=new_df[\"att7\"].astype(\"category\")\n",
    "new_df[\"month\"]=new_df[\"month\"].astype(\"category\")\n",
    "new_df[\"season\"]=new_df[\"season\"].astype(\"category\")\n",
    "new_df[\"device_type\"]=new_df[\"device_type\"].astype(\"category\")"
   ]
  },
  {
   "cell_type": "code",
   "execution_count": 49,
   "metadata": {
    "colab": {
     "base_uri": "https://localhost:8080/"
    },
    "id": "Yhv6JKuU6naX",
    "outputId": "27b3170c-04b9-4251-925e-49b09c164d13"
   },
   "outputs": [
    {
     "name": "stdout",
     "output_type": "stream",
     "text": [
      "<class 'pandas.core.frame.DataFrame'>\n",
      "Index: 1168 entries, S1F01085 to Z1F2PBHX\n",
      "Data columns (total 12 columns):\n",
      " #   Column         Non-Null Count  Dtype   \n",
      "---  ------         --------------  -----   \n",
      " 0   process_time   1168 non-null   int64   \n",
      " 1   total_mileage  1168 non-null   int64   \n",
      " 2   att1           1168 non-null   float64 \n",
      " 3   att2           1168 non-null   category\n",
      " 4   att3v9         1168 non-null   category\n",
      " 5   att4           1168 non-null   category\n",
      " 6   att5           1168 non-null   category\n",
      " 7   att7           1168 non-null   category\n",
      " 8   failure        1168 non-null   int64   \n",
      " 9   month          1168 non-null   category\n",
      " 10  season         1168 non-null   category\n",
      " 11  device_type    1168 non-null   category\n",
      "dtypes: category(8), float64(1), int64(3)\n",
      "memory usage: 109.7+ KB\n"
     ]
    }
   ],
   "source": [
    "new_df.info()"
   ]
  },
  {
   "cell_type": "markdown",
   "metadata": {
    "id": "l4YgryFP-aR5"
   },
   "source": [
    "### **SCALER DATA**"
   ]
  },
  {
   "cell_type": "code",
   "execution_count": 50,
   "metadata": {
    "id": "eN9iSFn79M6B"
   },
   "outputs": [],
   "source": [
    "from sklearn.preprocessing import LabelEncoder,OneHotEncoder,StandardScaler"
   ]
  },
  {
   "cell_type": "code",
   "execution_count": 51,
   "metadata": {
    "id": "_HBoagxk9WRR"
   },
   "outputs": [],
   "source": [
    "scaler=StandardScaler()"
   ]
  },
  {
   "cell_type": "code",
   "execution_count": 52,
   "metadata": {
    "id": "x8g0SWdK9YX9"
   },
   "outputs": [],
   "source": [
    "new_df[[\"process_time\",\"total_mileage\",\"att1\"]]=scaler.fit_transform(new_df[[\"process_time\",\"total_mileage\",\"att1\"]])"
   ]
  },
  {
   "cell_type": "code",
   "execution_count": 53,
   "metadata": {
    "colab": {
     "base_uri": "https://localhost:8080/",
     "height": 420
    },
    "id": "JVDcrfem-SqI",
    "outputId": "f4e6758e-f792-470b-aafb-c76f6a6640f4"
   },
   "outputs": [
    {
     "data": {
      "text/html": [
       "<div>\n",
       "<style scoped>\n",
       "    .dataframe tbody tr th:only-of-type {\n",
       "        vertical-align: middle;\n",
       "    }\n",
       "\n",
       "    .dataframe tbody tr th {\n",
       "        vertical-align: top;\n",
       "    }\n",
       "\n",
       "    .dataframe thead th {\n",
       "        text-align: right;\n",
       "    }\n",
       "</style>\n",
       "<table border=\"1\" class=\"dataframe\">\n",
       "  <thead>\n",
       "    <tr style=\"text-align: right;\">\n",
       "      <th></th>\n",
       "      <th>process_time</th>\n",
       "      <th>total_mileage</th>\n",
       "      <th>att1</th>\n",
       "      <th>att2</th>\n",
       "      <th>att3v9</th>\n",
       "      <th>att4</th>\n",
       "      <th>att5</th>\n",
       "      <th>att7</th>\n",
       "      <th>failure</th>\n",
       "      <th>month</th>\n",
       "      <th>season</th>\n",
       "      <th>device_type</th>\n",
       "    </tr>\n",
       "    <tr>\n",
       "      <th>device</th>\n",
       "      <th></th>\n",
       "      <th></th>\n",
       "      <th></th>\n",
       "      <th></th>\n",
       "      <th></th>\n",
       "      <th></th>\n",
       "      <th></th>\n",
       "      <th></th>\n",
       "      <th></th>\n",
       "      <th></th>\n",
       "      <th></th>\n",
       "      <th></th>\n",
       "    </tr>\n",
       "  </thead>\n",
       "  <tbody>\n",
       "    <tr>\n",
       "      <th>S1F01085</th>\n",
       "      <td>-1.025220</td>\n",
       "      <td>-0.804348</td>\n",
       "      <td>-0.442297</td>\n",
       "      <td>28.0</td>\n",
       "      <td>0</td>\n",
       "      <td>52</td>\n",
       "      <td>6</td>\n",
       "      <td>0</td>\n",
       "      <td>0</td>\n",
       "      <td>1</td>\n",
       "      <td>winter</td>\n",
       "      <td>S1F</td>\n",
       "    </tr>\n",
       "    <tr>\n",
       "      <th>S1F013BB</th>\n",
       "      <td>-1.025220</td>\n",
       "      <td>-0.852462</td>\n",
       "      <td>0.505001</td>\n",
       "      <td>0.0</td>\n",
       "      <td>0</td>\n",
       "      <td>0</td>\n",
       "      <td>5</td>\n",
       "      <td>0</td>\n",
       "      <td>0</td>\n",
       "      <td>5</td>\n",
       "      <td>spring</td>\n",
       "      <td>S1F</td>\n",
       "    </tr>\n",
       "    <tr>\n",
       "      <th>S1F0166B</th>\n",
       "      <td>-1.025220</td>\n",
       "      <td>-0.814042</td>\n",
       "      <td>-0.144641</td>\n",
       "      <td>0.0</td>\n",
       "      <td>3</td>\n",
       "      <td>0</td>\n",
       "      <td>6</td>\n",
       "      <td>0</td>\n",
       "      <td>0</td>\n",
       "      <td>1</td>\n",
       "      <td>winter</td>\n",
       "      <td>S1F</td>\n",
       "    </tr>\n",
       "    <tr>\n",
       "      <th>S1F01E6Y</th>\n",
       "      <td>-0.621165</td>\n",
       "      <td>-0.253074</td>\n",
       "      <td>0.399451</td>\n",
       "      <td>0.0</td>\n",
       "      <td>0</td>\n",
       "      <td>0</td>\n",
       "      <td>12</td>\n",
       "      <td>0</td>\n",
       "      <td>0</td>\n",
       "      <td>2</td>\n",
       "      <td>winter</td>\n",
       "      <td>S1F</td>\n",
       "    </tr>\n",
       "    <tr>\n",
       "      <th>S1F01JE0</th>\n",
       "      <td>-1.025220</td>\n",
       "      <td>-0.804375</td>\n",
       "      <td>0.238975</td>\n",
       "      <td>0.0</td>\n",
       "      <td>0</td>\n",
       "      <td>0</td>\n",
       "      <td>6</td>\n",
       "      <td>0</td>\n",
       "      <td>0</td>\n",
       "      <td>1</td>\n",
       "      <td>winter</td>\n",
       "      <td>S1F</td>\n",
       "    </tr>\n",
       "    <tr>\n",
       "      <th>...</th>\n",
       "      <td>...</td>\n",
       "      <td>...</td>\n",
       "      <td>...</td>\n",
       "      <td>...</td>\n",
       "      <td>...</td>\n",
       "      <td>...</td>\n",
       "      <td>...</td>\n",
       "      <td>...</td>\n",
       "      <td>...</td>\n",
       "      <td>...</td>\n",
       "      <td>...</td>\n",
       "      <td>...</td>\n",
       "    </tr>\n",
       "    <tr>\n",
       "      <th>Z1F1VMZB</th>\n",
       "      <td>1.726206</td>\n",
       "      <td>1.250844</td>\n",
       "      <td>0.471345</td>\n",
       "      <td>0.0</td>\n",
       "      <td>0</td>\n",
       "      <td>0</td>\n",
       "      <td>5</td>\n",
       "      <td>0</td>\n",
       "      <td>0</td>\n",
       "      <td>10</td>\n",
       "      <td>autumn</td>\n",
       "      <td>Z1F</td>\n",
       "    </tr>\n",
       "    <tr>\n",
       "      <th>Z1F1VQFY</th>\n",
       "      <td>0.658345</td>\n",
       "      <td>0.272677</td>\n",
       "      <td>0.495628</td>\n",
       "      <td>0.0</td>\n",
       "      <td>0</td>\n",
       "      <td>0</td>\n",
       "      <td>7</td>\n",
       "      <td>0</td>\n",
       "      <td>1</td>\n",
       "      <td>6</td>\n",
       "      <td>summer</td>\n",
       "      <td>Z1F</td>\n",
       "    </tr>\n",
       "    <tr>\n",
       "      <th>Z1F26YZB</th>\n",
       "      <td>-0.274831</td>\n",
       "      <td>-0.299381</td>\n",
       "      <td>0.456886</td>\n",
       "      <td>0.0</td>\n",
       "      <td>1</td>\n",
       "      <td>0</td>\n",
       "      <td>1</td>\n",
       "      <td>0</td>\n",
       "      <td>0</td>\n",
       "      <td>3</td>\n",
       "      <td>spring</td>\n",
       "      <td>Z1F</td>\n",
       "    </tr>\n",
       "    <tr>\n",
       "      <th>Z1F282ZV</th>\n",
       "      <td>-0.274831</td>\n",
       "      <td>-0.274598</td>\n",
       "      <td>0.498959</td>\n",
       "      <td>0.0</td>\n",
       "      <td>1</td>\n",
       "      <td>0</td>\n",
       "      <td>1</td>\n",
       "      <td>0</td>\n",
       "      <td>0</td>\n",
       "      <td>3</td>\n",
       "      <td>spring</td>\n",
       "      <td>Z1F</td>\n",
       "    </tr>\n",
       "    <tr>\n",
       "      <th>Z1F2PBHX</th>\n",
       "      <td>-0.159387</td>\n",
       "      <td>-0.419708</td>\n",
       "      <td>0.525160</td>\n",
       "      <td>0.0</td>\n",
       "      <td>0</td>\n",
       "      <td>0</td>\n",
       "      <td>5</td>\n",
       "      <td>0</td>\n",
       "      <td>0</td>\n",
       "      <td>4</td>\n",
       "      <td>spring</td>\n",
       "      <td>Z1F</td>\n",
       "    </tr>\n",
       "  </tbody>\n",
       "</table>\n",
       "<p>1168 rows × 12 columns</p>\n",
       "</div>"
      ],
      "text/plain": [
       "          process_time  total_mileage      att1  att2 att3v9 att4 att5 att7  \\\n",
       "device                                                                        \n",
       "S1F01085     -1.025220      -0.804348 -0.442297  28.0      0   52    6    0   \n",
       "S1F013BB     -1.025220      -0.852462  0.505001   0.0      0    0    5    0   \n",
       "S1F0166B     -1.025220      -0.814042 -0.144641   0.0      3    0    6    0   \n",
       "S1F01E6Y     -0.621165      -0.253074  0.399451   0.0      0    0   12    0   \n",
       "S1F01JE0     -1.025220      -0.804375  0.238975   0.0      0    0    6    0   \n",
       "...                ...            ...       ...   ...    ...  ...  ...  ...   \n",
       "Z1F1VMZB      1.726206       1.250844  0.471345   0.0      0    0    5    0   \n",
       "Z1F1VQFY      0.658345       0.272677  0.495628   0.0      0    0    7    0   \n",
       "Z1F26YZB     -0.274831      -0.299381  0.456886   0.0      1    0    1    0   \n",
       "Z1F282ZV     -0.274831      -0.274598  0.498959   0.0      1    0    1    0   \n",
       "Z1F2PBHX     -0.159387      -0.419708  0.525160   0.0      0    0    5    0   \n",
       "\n",
       "          failure month  season device_type  \n",
       "device                                       \n",
       "S1F01085        0     1  winter         S1F  \n",
       "S1F013BB        0     5  spring         S1F  \n",
       "S1F0166B        0     1  winter         S1F  \n",
       "S1F01E6Y        0     2  winter         S1F  \n",
       "S1F01JE0        0     1  winter         S1F  \n",
       "...           ...   ...     ...         ...  \n",
       "Z1F1VMZB        0    10  autumn         Z1F  \n",
       "Z1F1VQFY        1     6  summer         Z1F  \n",
       "Z1F26YZB        0     3  spring         Z1F  \n",
       "Z1F282ZV        0     3  spring         Z1F  \n",
       "Z1F2PBHX        0     4  spring         Z1F  \n",
       "\n",
       "[1168 rows x 12 columns]"
      ]
     },
     "execution_count": 53,
     "metadata": {
      "tags": []
     },
     "output_type": "execute_result"
    }
   ],
   "source": [
    "new_df"
   ]
  },
  {
   "cell_type": "markdown",
   "metadata": {
    "id": "3OT7oAC4-xOJ"
   },
   "source": [
    "**MODELLING**"
   ]
  },
  {
   "cell_type": "code",
   "execution_count": 54,
   "metadata": {
    "id": "dJPVkGJf-U2d"
   },
   "outputs": [],
   "source": [
    "x=new_df.drop(\"failure\",axis=1)\n",
    "y=new_df[\"failure\"]"
   ]
  },
  {
   "cell_type": "code",
   "execution_count": 55,
   "metadata": {
    "id": "_4hTuuMl_9UX"
   },
   "outputs": [],
   "source": [
    "x=pd.get_dummies(x,drop_first=True)"
   ]
  },
  {
   "cell_type": "code",
   "execution_count": 56,
   "metadata": {
    "id": "Ht6nQklX_rnS"
   },
   "outputs": [],
   "source": [
    "x_train,x_test,y_train,y_test=train_test_split(x,y,test_size=0.25,random_state=101)"
   ]
  },
  {
   "cell_type": "code",
   "execution_count": 57,
   "metadata": {
    "id": "86TBlbNf_0_1"
   },
   "outputs": [],
   "source": [
    "g.fit(x_train,y_train)\n",
    "g_pred=g.predict(x_test)"
   ]
  },
  {
   "cell_type": "markdown",
   "metadata": {
    "id": "kMVzyHvgmIl8"
   },
   "source": [
    "**Hıghly ımbalanced data**"
   ]
  },
  {
   "cell_type": "code",
   "execution_count": 58,
   "metadata": {
    "colab": {
     "base_uri": "https://localhost:8080/"
    },
    "id": "-zAk0a67_42y",
    "outputId": "a7a14483-83ad-4731-84e2-eb9637486390"
   },
   "outputs": [
    {
     "data": {
      "text/plain": [
       "(0.22945205479452055,\n",
       " 0.08368200836820083,\n",
       " 0.7692307692307693,\n",
       " 0.1509433962264151)"
      ]
     },
     "execution_count": 58,
     "metadata": {
      "tags": []
     },
     "output_type": "execute_result"
    }
   ],
   "source": [
    "accuracy_score(y_test,g_pred), precision_score(y_test,g_pred),recall_score(y_test,g_pred),f1_score(y_test,g_pred)"
   ]
  },
  {
   "cell_type": "code",
   "execution_count": 59,
   "metadata": {
    "colab": {
     "base_uri": "https://localhost:8080/"
    },
    "id": "CCZz9CPxBLXh",
    "outputId": "838d5444-5f5a-4fa3-df74-797b2122a919"
   },
   "outputs": [
    {
     "data": {
      "text/plain": [
       "(0.22945205479452055,\n",
       " 0.08368200836820083,\n",
       " 0.7692307692307693,\n",
       " 0.1509433962264151)"
      ]
     },
     "execution_count": 59,
     "metadata": {
      "tags": []
     },
     "output_type": "execute_result"
    }
   ],
   "source": [
    "accuracy_score(y_test,g_pred), precision_score(y_test,g_pred),recall_score(y_test,g_pred),f1_score(y_test,g_pred)"
   ]
  },
  {
   "cell_type": "code",
   "execution_count": 60,
   "metadata": {
    "colab": {
     "base_uri": "https://localhost:8080/"
    },
    "id": "S24oxPIgBQNB",
    "outputId": "807a9efb-28a8-44c2-88bb-9392407af26f"
   },
   "outputs": [
    {
     "name": "stdout",
     "output_type": "stream",
     "text": [
      "              precision    recall  f1-score   support\n",
      "\n",
      "           0       0.89      0.18      0.29       266\n",
      "           1       0.08      0.77      0.15        26\n",
      "\n",
      "    accuracy                           0.23       292\n",
      "   macro avg       0.49      0.47      0.22       292\n",
      "weighted avg       0.82      0.23      0.28       292\n",
      "\n"
     ]
    }
   ],
   "source": [
    "print(classification_report(y_test,g_pred))"
   ]
  },
  {
   "cell_type": "code",
   "execution_count": 61,
   "metadata": {
    "colab": {
     "base_uri": "https://localhost:8080/"
    },
    "id": "UTwyJbTLBSjJ",
    "outputId": "3e2bd805-6092-4330-92d8-09449e30be00"
   },
   "outputs": [
    {
     "data": {
      "text/plain": [
       "((292, 323), (292,))"
      ]
     },
     "execution_count": 61,
     "metadata": {
      "tags": []
     },
     "output_type": "execute_result"
    }
   ],
   "source": [
    "x_test.shape , y_test.shape"
   ]
  },
  {
   "cell_type": "code",
   "execution_count": 62,
   "metadata": {
    "colab": {
     "base_uri": "https://localhost:8080/"
    },
    "id": "uScSJiFrBzut",
    "outputId": "be22dfcf-c7da-485a-a03f-ca4e99c57a6b"
   },
   "outputs": [
    {
     "data": {
      "text/plain": [
       "array([[ 47, 219],\n",
       "       [  6,  20]])"
      ]
     },
     "execution_count": 62,
     "metadata": {
      "tags": []
     },
     "output_type": "execute_result"
    }
   ],
   "source": [
    "confusion_matrix(y_test,g_pred) # 0 negative 1 pozitive  # hıghly ımbalanced data # sO WE ARE GONNA DO OVERSAMPLING"
   ]
  },
  {
   "cell_type": "markdown",
   "metadata": {
    "id": "RvQyZ6BXBdtT"
   },
   "source": [
    "![2021-05-05_23-16-55.png](data:image/png;base64,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)"
   ]
  },
  {
   "cell_type": "markdown",
   "metadata": {
    "id": "igYO3X8_B9Tq"
   },
   "source": [
    "**OVERSAMPLING**"
   ]
  },
  {
   "cell_type": "code",
   "execution_count": 63,
   "metadata": {
    "colab": {
     "base_uri": "https://localhost:8080/"
    },
    "id": "tDWcUR5-BYVx",
    "outputId": "255b88c5-0229-4073-866c-2ba6ca191c09"
   },
   "outputs": [
    {
     "name": "stdout",
     "output_type": "stream",
     "text": [
      "[[ 1.07202088  0.00307855  0.47370152 ...  0.          0.\n",
      "   1.        ]\n",
      " [-0.29407207 -0.01773352  0.5011594  ...  0.          0.\n",
      "   0.        ]\n",
      " [-0.25559057 -0.1116069   0.34721115 ...  0.          1.\n",
      "   0.        ]\n",
      " ...\n",
      " [ 0.26702606  0.01483799  0.49458345 ...  0.          0.\n",
      "   0.        ]\n",
      " [ 0.94368795  2.06981222  0.51041976 ...  0.          0.\n",
      "   0.        ]\n",
      " [ 0.79239483  0.08910189  0.51976153 ...  0.          0.64757364\n",
      "   0.        ]] [0 0 0 ... 1 1 1]\n"
     ]
    }
   ],
   "source": [
    "from sklearn.model_selection import train_test_split\n",
    "from imblearn.over_sampling import SMOTE\n",
    "x_train, x_test, y_train, y_test = train_test_split(x, y,test_size = 0.2, random_state=1)\n",
    "smote_over_sampling = SMOTE(random_state=42)\n",
    "x_train_resampled, y_train_resampled = smote_over_sampling.fit_resample(x_train, y_train)\n",
    "\n",
    "print(x_train_resampled, y_train_resampled)\n",
    "gbc.fit(x_train_resampled, y_train_resampled)\n",
    "g_over_pred=gbc.predict(x_test)"
   ]
  },
  {
   "cell_type": "code",
   "execution_count": 64,
   "metadata": {
    "colab": {
     "base_uri": "https://localhost:8080/"
    },
    "id": "EOZX3J7Nhhpu",
    "outputId": "a44eb7f5-da91-463e-9151-4f4c2b63353d"
   },
   "outputs": [
    {
     "data": {
      "text/plain": [
       "(0.9658119658119658,\n",
       " 0.7368421052631579,\n",
       " 0.8235294117647058,\n",
       " 0.7777777777777778)"
      ]
     },
     "execution_count": 64,
     "metadata": {
      "tags": []
     },
     "output_type": "execute_result"
    }
   ],
   "source": [
    "accuracy_score(y_test,g_over_pred), precision_score(y_test,g_over_pred),recall_score(y_test,g_over_pred),f1_score(y_test,g_over_pred)"
   ]
  },
  {
   "cell_type": "code",
   "execution_count": 65,
   "metadata": {
    "colab": {
     "base_uri": "https://localhost:8080/"
    },
    "id": "fTqOSOHEhvUd",
    "outputId": "bf480e64-496b-49cc-9333-595b5177e25c"
   },
   "outputs": [
    {
     "data": {
      "text/plain": [
       "array([[212,   5],\n",
       "       [  3,  14]])"
      ]
     },
     "execution_count": 65,
     "metadata": {
      "tags": []
     },
     "output_type": "execute_result"
    }
   ],
   "source": [
    "confusion_matrix(y_test,g_over_pred)"
   ]
  },
  {
   "cell_type": "code",
   "execution_count": 66,
   "metadata": {
    "colab": {
     "base_uri": "https://localhost:8080/",
     "height": 248
    },
    "id": "RFKerX9ug5TX",
    "outputId": "d3dbbe2e-a967-4949-afeb-32ad6f99846f"
   },
   "outputs": [
    {
     "data": {
      "text/html": [
       "<div>\n",
       "<style scoped>\n",
       "    .dataframe tbody tr th:only-of-type {\n",
       "        vertical-align: middle;\n",
       "    }\n",
       "\n",
       "    .dataframe tbody tr th {\n",
       "        vertical-align: top;\n",
       "    }\n",
       "\n",
       "    .dataframe thead th {\n",
       "        text-align: right;\n",
       "    }\n",
       "</style>\n",
       "<table border=\"1\" class=\"dataframe\">\n",
       "  <thead>\n",
       "    <tr style=\"text-align: right;\">\n",
       "      <th></th>\n",
       "      <th>Accuracy</th>\n",
       "      <th>Precision</th>\n",
       "      <th>Recall</th>\n",
       "      <th>F1</th>\n",
       "    </tr>\n",
       "  </thead>\n",
       "  <tbody>\n",
       "    <tr>\n",
       "      <th>RandomForest</th>\n",
       "      <td>1.000000</td>\n",
       "      <td>1.000000</td>\n",
       "      <td>1.000000</td>\n",
       "      <td>1.000000</td>\n",
       "    </tr>\n",
       "    <tr>\n",
       "      <th>DesicionTree</th>\n",
       "      <td>1.000000</td>\n",
       "      <td>1.000000</td>\n",
       "      <td>1.000000</td>\n",
       "      <td>1.000000</td>\n",
       "    </tr>\n",
       "    <tr>\n",
       "      <th>GradientBoosting</th>\n",
       "      <td>0.980308</td>\n",
       "      <td>1.000000</td>\n",
       "      <td>0.783019</td>\n",
       "      <td>0.878307</td>\n",
       "    </tr>\n",
       "    <tr>\n",
       "      <th>BernoulliNB</th>\n",
       "      <td>0.954623</td>\n",
       "      <td>1.000000</td>\n",
       "      <td>0.500000</td>\n",
       "      <td>0.666667</td>\n",
       "    </tr>\n",
       "    <tr>\n",
       "      <th>Logistic</th>\n",
       "      <td>0.951199</td>\n",
       "      <td>0.980392</td>\n",
       "      <td>0.471698</td>\n",
       "      <td>0.636943</td>\n",
       "    </tr>\n",
       "    <tr>\n",
       "      <th>K Nearest</th>\n",
       "      <td>0.923801</td>\n",
       "      <td>0.904762</td>\n",
       "      <td>0.179245</td>\n",
       "      <td>0.299213</td>\n",
       "    </tr>\n",
       "    <tr>\n",
       "      <th>GaussianNB</th>\n",
       "      <td>0.349315</td>\n",
       "      <td>0.122402</td>\n",
       "      <td>1.000000</td>\n",
       "      <td>0.218107</td>\n",
       "    </tr>\n",
       "  </tbody>\n",
       "</table>\n",
       "</div>"
      ],
      "text/plain": [
       "                  Accuracy  Precision    Recall        F1\n",
       "RandomForest      1.000000   1.000000  1.000000  1.000000\n",
       "DesicionTree      1.000000   1.000000  1.000000  1.000000\n",
       "GradientBoosting  0.980308   1.000000  0.783019  0.878307\n",
       "BernoulliNB       0.954623   1.000000  0.500000  0.666667\n",
       "Logistic          0.951199   0.980392  0.471698  0.636943\n",
       "K Nearest         0.923801   0.904762  0.179245  0.299213\n",
       "GaussianNB        0.349315   0.122402  1.000000  0.218107"
      ]
     },
     "execution_count": 66,
     "metadata": {
      "tags": []
     },
     "output_type": "execute_result"
    }
   ],
   "source": [
    "algo_test(x,y)"
   ]
  },
  {
   "cell_type": "markdown",
   "metadata": {
    "id": "k5r-R6syOhLN"
   },
   "source": [
    "### **DEEP LEARNING**"
   ]
  },
  {
   "cell_type": "code",
   "execution_count": 67,
   "metadata": {
    "id": "w1mxdwWaCavB"
   },
   "outputs": [],
   "source": [
    "import pandas as pd\n",
    "from tensorflow.keras.models import Sequential\n",
    "from tensorflow.keras.layers import Dense"
   ]
  },
  {
   "cell_type": "code",
   "execution_count": 68,
   "metadata": {
    "id": "0LD4M1oKh-Oi"
   },
   "outputs": [],
   "source": [
    "model=Sequential()\n",
    "model.add(Dense(12,activation=\"relu\")) \n",
    "model.add(Dense(8,activation=\"relu\"))\n",
    "model.add(Dense(8,activation=\"relu\"))\n",
    "model.add(Dense(8,activation=\"relu\"))\n",
    "model.add(Dense(4,activation=\"relu\"))\n",
    "model.add(Dense(1,activation=\"sigmoid\"))"
   ]
  },
  {
   "cell_type": "code",
   "execution_count": 69,
   "metadata": {
    "id": "dM1P1h4wiO18"
   },
   "outputs": [],
   "source": [
    "model.compile(loss=\"binary_crossentropy\",optimizer=\"adam\",metrics=[\"accuracy\"])"
   ]
  },
  {
   "cell_type": "code",
   "execution_count": 70,
   "metadata": {
    "colab": {
     "base_uri": "https://localhost:8080/"
    },
    "id": "HEwO9RmLiVDh",
    "outputId": "e1d731dc-76d8-427b-abc5-ede51bc98520"
   },
   "outputs": [
    {
     "name": "stdout",
     "output_type": "stream",
     "text": [
      "Epoch 1/150\n",
      "117/117 [==============================] - 1s 1ms/step - loss: 0.6036 - accuracy: 0.8889\n",
      "Epoch 2/150\n",
      "117/117 [==============================] - 0s 2ms/step - loss: 0.2644 - accuracy: 0.9142\n",
      "Epoch 3/150\n",
      "117/117 [==============================] - 0s 1ms/step - loss: 0.2247 - accuracy: 0.9207\n",
      "Epoch 4/150\n",
      "117/117 [==============================] - 0s 2ms/step - loss: 0.2128 - accuracy: 0.9084\n",
      "Epoch 5/150\n",
      "117/117 [==============================] - 0s 2ms/step - loss: 0.1731 - accuracy: 0.9282\n",
      "Epoch 6/150\n",
      "117/117 [==============================] - 0s 2ms/step - loss: 0.1248 - accuracy: 0.9679\n",
      "Epoch 7/150\n",
      "117/117 [==============================] - 0s 2ms/step - loss: 0.1100 - accuracy: 0.9746\n",
      "Epoch 8/150\n",
      "117/117 [==============================] - 0s 2ms/step - loss: 0.1054 - accuracy: 0.9656\n",
      "Epoch 9/150\n",
      "117/117 [==============================] - 0s 2ms/step - loss: 0.0738 - accuracy: 0.9761\n",
      "Epoch 10/150\n",
      "117/117 [==============================] - 0s 1ms/step - loss: 0.0578 - accuracy: 0.9850\n",
      "Epoch 11/150\n",
      "117/117 [==============================] - 0s 2ms/step - loss: 0.0601 - accuracy: 0.9840\n",
      "Epoch 12/150\n",
      "117/117 [==============================] - 0s 1ms/step - loss: 0.0552 - accuracy: 0.9862\n",
      "Epoch 13/150\n",
      "117/117 [==============================] - 0s 1ms/step - loss: 0.0342 - accuracy: 0.9900\n",
      "Epoch 14/150\n",
      "117/117 [==============================] - 0s 2ms/step - loss: 0.0403 - accuracy: 0.9876\n",
      "Epoch 15/150\n",
      "117/117 [==============================] - 0s 2ms/step - loss: 0.0295 - accuracy: 0.9887\n",
      "Epoch 16/150\n",
      "117/117 [==============================] - 0s 2ms/step - loss: 0.0371 - accuracy: 0.9868\n",
      "Epoch 17/150\n",
      "117/117 [==============================] - 0s 2ms/step - loss: 0.0253 - accuracy: 0.9905\n",
      "Epoch 18/150\n",
      "117/117 [==============================] - 0s 2ms/step - loss: 0.0171 - accuracy: 0.9960\n",
      "Epoch 19/150\n",
      "117/117 [==============================] - 0s 1ms/step - loss: 0.0248 - accuracy: 0.9925\n",
      "Epoch 20/150\n",
      "117/117 [==============================] - 0s 2ms/step - loss: 0.0155 - accuracy: 0.9947\n",
      "Epoch 21/150\n",
      "117/117 [==============================] - 0s 2ms/step - loss: 0.0214 - accuracy: 0.9914\n",
      "Epoch 22/150\n",
      "117/117 [==============================] - 0s 2ms/step - loss: 0.0204 - accuracy: 0.9937\n",
      "Epoch 23/150\n",
      "117/117 [==============================] - 0s 2ms/step - loss: 0.0146 - accuracy: 0.9925\n",
      "Epoch 24/150\n",
      "117/117 [==============================] - 0s 2ms/step - loss: 0.0160 - accuracy: 0.9959\n",
      "Epoch 25/150\n",
      "117/117 [==============================] - 0s 2ms/step - loss: 0.0115 - accuracy: 0.9986\n",
      "Epoch 26/150\n",
      "117/117 [==============================] - 0s 2ms/step - loss: 0.0146 - accuracy: 0.9957\n",
      "Epoch 27/150\n",
      "117/117 [==============================] - 0s 2ms/step - loss: 0.0088 - accuracy: 0.9990\n",
      "Epoch 28/150\n",
      "117/117 [==============================] - 0s 2ms/step - loss: 0.0122 - accuracy: 0.9957\n",
      "Epoch 29/150\n",
      "117/117 [==============================] - 0s 1ms/step - loss: 0.0183 - accuracy: 0.9938\n",
      "Epoch 30/150\n",
      "117/117 [==============================] - 0s 2ms/step - loss: 0.0108 - accuracy: 0.9946\n",
      "Epoch 31/150\n",
      "117/117 [==============================] - 0s 2ms/step - loss: 0.0121 - accuracy: 0.9961\n",
      "Epoch 32/150\n",
      "117/117 [==============================] - 0s 2ms/step - loss: 0.0050 - accuracy: 0.9993\n",
      "Epoch 33/150\n",
      "117/117 [==============================] - 0s 2ms/step - loss: 0.0087 - accuracy: 0.9969\n",
      "Epoch 34/150\n",
      "117/117 [==============================] - 0s 2ms/step - loss: 0.0107 - accuracy: 0.9960\n",
      "Epoch 35/150\n",
      "117/117 [==============================] - 0s 2ms/step - loss: 0.0100 - accuracy: 0.9955\n",
      "Epoch 36/150\n",
      "117/117 [==============================] - 0s 2ms/step - loss: 0.0061 - accuracy: 0.9982\n",
      "Epoch 37/150\n",
      "117/117 [==============================] - 0s 2ms/step - loss: 0.0089 - accuracy: 0.9974\n",
      "Epoch 38/150\n",
      "117/117 [==============================] - 0s 2ms/step - loss: 0.0085 - accuracy: 0.9992\n",
      "Epoch 39/150\n",
      "117/117 [==============================] - 0s 2ms/step - loss: 0.0062 - accuracy: 0.9981\n",
      "Epoch 40/150\n",
      "117/117 [==============================] - 0s 2ms/step - loss: 0.0044 - accuracy: 0.9983\n",
      "Epoch 41/150\n",
      "117/117 [==============================] - 0s 2ms/step - loss: 0.0045 - accuracy: 0.9995\n",
      "Epoch 42/150\n",
      "117/117 [==============================] - 0s 2ms/step - loss: 0.0060 - accuracy: 0.9975\n",
      "Epoch 43/150\n",
      "117/117 [==============================] - 0s 2ms/step - loss: 0.0107 - accuracy: 0.9976\n",
      "Epoch 44/150\n",
      "117/117 [==============================] - 0s 2ms/step - loss: 0.0050 - accuracy: 0.9990\n",
      "Epoch 45/150\n",
      "117/117 [==============================] - 0s 2ms/step - loss: 0.0084 - accuracy: 0.9970\n",
      "Epoch 46/150\n",
      "117/117 [==============================] - 0s 1ms/step - loss: 0.0111 - accuracy: 0.9975\n",
      "Epoch 47/150\n",
      "117/117 [==============================] - 0s 1ms/step - loss: 0.0084 - accuracy: 0.9969\n",
      "Epoch 48/150\n",
      "117/117 [==============================] - 0s 2ms/step - loss: 0.0071 - accuracy: 0.9961\n",
      "Epoch 49/150\n",
      "117/117 [==============================] - 0s 2ms/step - loss: 0.0060 - accuracy: 0.9977\n",
      "Epoch 50/150\n",
      "117/117 [==============================] - 0s 2ms/step - loss: 0.0073 - accuracy: 0.9981\n",
      "Epoch 51/150\n",
      "117/117 [==============================] - 0s 2ms/step - loss: 0.0143 - accuracy: 0.9925\n",
      "Epoch 52/150\n",
      "117/117 [==============================] - 0s 1ms/step - loss: 0.0066 - accuracy: 0.9971\n",
      "Epoch 53/150\n",
      "117/117 [==============================] - 0s 1ms/step - loss: 0.0033 - accuracy: 0.9979\n",
      "Epoch 54/150\n",
      "117/117 [==============================] - 0s 2ms/step - loss: 0.0035 - accuracy: 0.9996\n",
      "Epoch 55/150\n",
      "117/117 [==============================] - 0s 2ms/step - loss: 0.0080 - accuracy: 0.9966\n",
      "Epoch 56/150\n",
      "117/117 [==============================] - 0s 2ms/step - loss: 0.0021 - accuracy: 0.9994\n",
      "Epoch 57/150\n",
      "117/117 [==============================] - 0s 2ms/step - loss: 0.0070 - accuracy: 0.9983\n",
      "Epoch 58/150\n",
      "117/117 [==============================] - 0s 1ms/step - loss: 0.0059 - accuracy: 0.9971\n",
      "Epoch 59/150\n",
      "117/117 [==============================] - 0s 2ms/step - loss: 0.0092 - accuracy: 0.9962\n",
      "Epoch 60/150\n",
      "117/117 [==============================] - 0s 2ms/step - loss: 0.0041 - accuracy: 0.9988\n",
      "Epoch 61/150\n",
      "117/117 [==============================] - 0s 2ms/step - loss: 0.0028 - accuracy: 0.9994\n",
      "Epoch 62/150\n",
      "117/117 [==============================] - 0s 2ms/step - loss: 0.0097 - accuracy: 0.9951\n",
      "Epoch 63/150\n",
      "117/117 [==============================] - 0s 2ms/step - loss: 0.0061 - accuracy: 0.9978\n",
      "Epoch 64/150\n",
      "117/117 [==============================] - 0s 2ms/step - loss: 0.0034 - accuracy: 0.9990\n",
      "Epoch 65/150\n",
      "117/117 [==============================] - 0s 2ms/step - loss: 0.0121 - accuracy: 0.9928\n",
      "Epoch 66/150\n",
      "117/117 [==============================] - 0s 2ms/step - loss: 0.0081 - accuracy: 0.9951\n",
      "Epoch 67/150\n",
      "117/117 [==============================] - 0s 2ms/step - loss: 0.0053 - accuracy: 0.9977\n",
      "Epoch 68/150\n",
      "117/117 [==============================] - 0s 2ms/step - loss: 0.0051 - accuracy: 0.9991\n",
      "Epoch 69/150\n",
      "117/117 [==============================] - 0s 1ms/step - loss: 0.0024 - accuracy: 0.9989\n",
      "Epoch 70/150\n",
      "117/117 [==============================] - 0s 2ms/step - loss: 0.0031 - accuracy: 0.9987\n",
      "Epoch 71/150\n",
      "117/117 [==============================] - 0s 2ms/step - loss: 0.0050 - accuracy: 0.9979\n",
      "Epoch 72/150\n",
      "117/117 [==============================] - 0s 2ms/step - loss: 0.0045 - accuracy: 0.9970\n",
      "Epoch 73/150\n",
      "117/117 [==============================] - 0s 2ms/step - loss: 0.0060 - accuracy: 0.9976\n",
      "Epoch 74/150\n",
      "117/117 [==============================] - 0s 2ms/step - loss: 0.0091 - accuracy: 0.9939\n",
      "Epoch 75/150\n",
      "117/117 [==============================] - 0s 2ms/step - loss: 0.0042 - accuracy: 0.9980\n",
      "Epoch 76/150\n",
      "117/117 [==============================] - 0s 2ms/step - loss: 0.0012 - accuracy: 0.9998\n",
      "Epoch 77/150\n",
      "117/117 [==============================] - 0s 2ms/step - loss: 0.0038 - accuracy: 0.9976\n",
      "Epoch 78/150\n",
      "117/117 [==============================] - 0s 2ms/step - loss: 0.0012 - accuracy: 0.9996\n",
      "Epoch 79/150\n",
      "117/117 [==============================] - 0s 2ms/step - loss: 0.0087 - accuracy: 0.9949\n",
      "Epoch 80/150\n",
      "117/117 [==============================] - 0s 2ms/step - loss: 0.0060 - accuracy: 0.9960\n",
      "Epoch 81/150\n",
      "117/117 [==============================] - 0s 2ms/step - loss: 0.0029 - accuracy: 0.9993\n",
      "Epoch 82/150\n",
      "117/117 [==============================] - 0s 2ms/step - loss: 0.0074 - accuracy: 0.9971\n",
      "Epoch 83/150\n",
      "117/117 [==============================] - 0s 2ms/step - loss: 0.0045 - accuracy: 0.9988\n",
      "Epoch 84/150\n",
      "117/117 [==============================] - 0s 2ms/step - loss: 0.0012 - accuracy: 0.9998\n",
      "Epoch 85/150\n",
      "117/117 [==============================] - 0s 2ms/step - loss: 0.0026 - accuracy: 0.9997\n",
      "Epoch 86/150\n",
      "117/117 [==============================] - 0s 2ms/step - loss: 0.0024 - accuracy: 0.9990\n",
      "Epoch 87/150\n",
      "117/117 [==============================] - 0s 1ms/step - loss: 0.0029 - accuracy: 0.9980\n",
      "Epoch 88/150\n",
      "117/117 [==============================] - 0s 2ms/step - loss: 0.0029 - accuracy: 0.9977\n",
      "Epoch 89/150\n",
      "117/117 [==============================] - 0s 2ms/step - loss: 0.0076 - accuracy: 0.9971\n",
      "Epoch 90/150\n",
      "117/117 [==============================] - 0s 2ms/step - loss: 9.0859e-04 - accuracy: 0.9998\n",
      "Epoch 91/150\n",
      "117/117 [==============================] - 0s 2ms/step - loss: 0.0021 - accuracy: 0.9997\n",
      "Epoch 92/150\n",
      "117/117 [==============================] - 0s 2ms/step - loss: 6.5090e-04 - accuracy: 1.0000\n",
      "Epoch 93/150\n",
      "117/117 [==============================] - 0s 2ms/step - loss: 0.0014 - accuracy: 0.9996\n",
      "Epoch 94/150\n",
      "117/117 [==============================] - 0s 2ms/step - loss: 0.0014 - accuracy: 0.9992\n",
      "Epoch 95/150\n",
      "117/117 [==============================] - 0s 2ms/step - loss: 0.0048 - accuracy: 0.9987\n",
      "Epoch 96/150\n",
      "117/117 [==============================] - 0s 2ms/step - loss: 0.0021 - accuracy: 0.9989\n",
      "Epoch 97/150\n",
      "117/117 [==============================] - 0s 2ms/step - loss: 0.0029 - accuracy: 0.9987\n",
      "Epoch 98/150\n",
      "117/117 [==============================] - 0s 2ms/step - loss: 0.0024 - accuracy: 0.9994\n",
      "Epoch 99/150\n",
      "117/117 [==============================] - 0s 2ms/step - loss: 0.0032 - accuracy: 0.9982\n",
      "Epoch 100/150\n",
      "117/117 [==============================] - 0s 2ms/step - loss: 0.0036 - accuracy: 0.9981\n",
      "Epoch 101/150\n",
      "117/117 [==============================] - 0s 2ms/step - loss: 9.5770e-04 - accuracy: 0.9994\n",
      "Epoch 102/150\n",
      "117/117 [==============================] - 0s 2ms/step - loss: 0.0051 - accuracy: 0.9987\n",
      "Epoch 103/150\n",
      "117/117 [==============================] - 0s 2ms/step - loss: 0.0077 - accuracy: 0.9980\n",
      "Epoch 104/150\n",
      "117/117 [==============================] - 0s 2ms/step - loss: 0.0031 - accuracy: 0.9998\n",
      "Epoch 105/150\n",
      "117/117 [==============================] - 0s 2ms/step - loss: 0.0034 - accuracy: 0.9980\n",
      "Epoch 106/150\n",
      "117/117 [==============================] - 0s 2ms/step - loss: 0.0033 - accuracy: 0.9991\n",
      "Epoch 107/150\n",
      "117/117 [==============================] - 0s 2ms/step - loss: 0.0036 - accuracy: 0.9981\n",
      "Epoch 108/150\n",
      "117/117 [==============================] - 0s 2ms/step - loss: 8.9048e-04 - accuracy: 0.9999\n",
      "Epoch 109/150\n",
      "117/117 [==============================] - 0s 2ms/step - loss: 0.0027 - accuracy: 0.9987\n",
      "Epoch 110/150\n",
      "117/117 [==============================] - 0s 2ms/step - loss: 0.0038 - accuracy: 0.9980\n",
      "Epoch 111/150\n",
      "117/117 [==============================] - 0s 2ms/step - loss: 0.0033 - accuracy: 0.9983\n",
      "Epoch 112/150\n",
      "117/117 [==============================] - 0s 2ms/step - loss: 0.0024 - accuracy: 0.9986\n",
      "Epoch 113/150\n",
      "117/117 [==============================] - 0s 2ms/step - loss: 0.0012 - accuracy: 0.9998\n",
      "Epoch 114/150\n",
      "117/117 [==============================] - 0s 2ms/step - loss: 0.0016 - accuracy: 0.9991\n",
      "Epoch 115/150\n",
      "117/117 [==============================] - 0s 2ms/step - loss: 0.0061 - accuracy: 0.9972\n",
      "Epoch 116/150\n",
      "117/117 [==============================] - 0s 2ms/step - loss: 0.0045 - accuracy: 0.9967\n",
      "Epoch 117/150\n",
      "117/117 [==============================] - 0s 2ms/step - loss: 9.1891e-04 - accuracy: 0.9998\n",
      "Epoch 118/150\n",
      "117/117 [==============================] - 0s 2ms/step - loss: 0.0011 - accuracy: 0.9996\n",
      "Epoch 119/150\n",
      "117/117 [==============================] - 0s 2ms/step - loss: 0.0030 - accuracy: 0.9983\n",
      "Epoch 120/150\n",
      "117/117 [==============================] - 0s 2ms/step - loss: 0.0025 - accuracy: 0.9991\n",
      "Epoch 121/150\n",
      "117/117 [==============================] - 0s 2ms/step - loss: 0.0038 - accuracy: 0.9982\n",
      "Epoch 122/150\n",
      "117/117 [==============================] - 0s 2ms/step - loss: 0.0040 - accuracy: 0.9974\n",
      "Epoch 123/150\n",
      "117/117 [==============================] - 0s 2ms/step - loss: 6.3527e-04 - accuracy: 0.9996\n",
      "Epoch 124/150\n",
      "117/117 [==============================] - 0s 2ms/step - loss: 0.0015 - accuracy: 0.9995\n",
      "Epoch 125/150\n",
      "117/117 [==============================] - 0s 2ms/step - loss: 8.8837e-04 - accuracy: 0.9998\n",
      "Epoch 126/150\n",
      "117/117 [==============================] - 0s 2ms/step - loss: 0.0066 - accuracy: 0.9978\n",
      "Epoch 127/150\n",
      "117/117 [==============================] - 0s 2ms/step - loss: 0.0011 - accuracy: 0.9994\n",
      "Epoch 128/150\n",
      "117/117 [==============================] - 0s 2ms/step - loss: 5.4895e-04 - accuracy: 0.9999\n",
      "Epoch 129/150\n",
      "117/117 [==============================] - 0s 2ms/step - loss: 0.0021 - accuracy: 0.9988\n",
      "Epoch 130/150\n",
      "117/117 [==============================] - 0s 2ms/step - loss: 0.0035 - accuracy: 0.9988\n",
      "Epoch 131/150\n",
      "117/117 [==============================] - 0s 2ms/step - loss: 0.0016 - accuracy: 0.9995\n",
      "Epoch 132/150\n",
      "117/117 [==============================] - 0s 2ms/step - loss: 0.0017 - accuracy: 0.9995\n",
      "Epoch 133/150\n",
      "117/117 [==============================] - 0s 2ms/step - loss: 0.0046 - accuracy: 0.9970\n",
      "Epoch 134/150\n",
      "117/117 [==============================] - 0s 2ms/step - loss: 0.0028 - accuracy: 0.9983\n",
      "Epoch 135/150\n",
      "117/117 [==============================] - 0s 2ms/step - loss: 0.0022 - accuracy: 0.9984\n",
      "Epoch 136/150\n",
      "117/117 [==============================] - 0s 2ms/step - loss: 0.0031 - accuracy: 0.9986\n",
      "Epoch 137/150\n",
      "117/117 [==============================] - 0s 2ms/step - loss: 0.0015 - accuracy: 0.9991\n",
      "Epoch 138/150\n",
      "117/117 [==============================] - 0s 2ms/step - loss: 0.0012 - accuracy: 0.9997\n",
      "Epoch 139/150\n",
      "117/117 [==============================] - 0s 2ms/step - loss: 0.0022 - accuracy: 0.9993\n",
      "Epoch 140/150\n",
      "117/117 [==============================] - 0s 2ms/step - loss: 0.0020 - accuracy: 0.9992\n",
      "Epoch 141/150\n",
      "117/117 [==============================] - 0s 2ms/step - loss: 0.0021 - accuracy: 0.9993\n",
      "Epoch 142/150\n",
      "117/117 [==============================] - 0s 2ms/step - loss: 0.0019 - accuracy: 0.9994\n",
      "Epoch 143/150\n",
      "117/117 [==============================] - 0s 2ms/step - loss: 0.0032 - accuracy: 0.9986\n",
      "Epoch 144/150\n",
      "117/117 [==============================] - 0s 2ms/step - loss: 0.0027 - accuracy: 0.9989\n",
      "Epoch 145/150\n",
      "117/117 [==============================] - 0s 2ms/step - loss: 0.0042 - accuracy: 0.9963\n",
      "Epoch 146/150\n",
      "117/117 [==============================] - 0s 2ms/step - loss: 6.5189e-04 - accuracy: 0.9999\n",
      "Epoch 147/150\n",
      "117/117 [==============================] - 0s 2ms/step - loss: 0.0059 - accuracy: 0.9978\n",
      "Epoch 148/150\n",
      "117/117 [==============================] - 0s 2ms/step - loss: 0.0020 - accuracy: 0.9992\n",
      "Epoch 149/150\n",
      "117/117 [==============================] - 0s 2ms/step - loss: 0.0018 - accuracy: 0.9998\n",
      "Epoch 150/150\n",
      "117/117 [==============================] - 0s 2ms/step - loss: 0.0042 - accuracy: 0.9960\n"
     ]
    },
    {
     "data": {
      "text/plain": [
       "<tensorflow.python.keras.callbacks.History at 0x7f25d9b5e0d0>"
      ]
     },
     "execution_count": 70,
     "metadata": {
      "tags": []
     },
     "output_type": "execute_result"
    }
   ],
   "source": [
    "model.fit(x,y,epochs=150,batch_size=10,verbose=1) "
   ]
  },
  {
   "cell_type": "code",
   "execution_count": 71,
   "metadata": {
    "colab": {
     "base_uri": "https://localhost:8080/"
    },
    "id": "CRTBOziOiwju",
    "outputId": "fdcb1d70-924f-4ba8-89f3-3140e06dfabf"
   },
   "outputs": [
    {
     "name": "stdout",
     "output_type": "stream",
     "text": [
      "Model: \"sequential\"\n",
      "_________________________________________________________________\n",
      "Layer (type)                 Output Shape              Param #   \n",
      "=================================================================\n",
      "dense (Dense)                (None, 12)                3888      \n",
      "_________________________________________________________________\n",
      "dense_1 (Dense)              (None, 8)                 104       \n",
      "_________________________________________________________________\n",
      "dense_2 (Dense)              (None, 8)                 72        \n",
      "_________________________________________________________________\n",
      "dense_3 (Dense)              (None, 8)                 72        \n",
      "_________________________________________________________________\n",
      "dense_4 (Dense)              (None, 4)                 36        \n",
      "_________________________________________________________________\n",
      "dense_5 (Dense)              (None, 1)                 5         \n",
      "=================================================================\n",
      "Total params: 4,177\n",
      "Trainable params: 4,177\n",
      "Non-trainable params: 0\n",
      "_________________________________________________________________\n"
     ]
    }
   ],
   "source": [
    "model.summary()"
   ]
  },
  {
   "cell_type": "code",
   "execution_count": 72,
   "metadata": {
    "colab": {
     "base_uri": "https://localhost:8080/"
    },
    "id": "GK8NY1Owiw9j",
    "outputId": "2d4d576c-b1b1-4131-e8b7-f5edd492ffba"
   },
   "outputs": [
    {
     "name": "stdout",
     "output_type": "stream",
     "text": [
      "37/37 [==============================] - 0s 1ms/step - loss: 0.0016 - accuracy: 0.9991\n"
     ]
    }
   ],
   "source": [
    "scores=model.evaluate(x,y)"
   ]
  },
  {
   "cell_type": "code",
   "execution_count": 73,
   "metadata": {
    "colab": {
     "base_uri": "https://localhost:8080/"
    },
    "id": "a7zbLtqwixI3",
    "outputId": "9d490782-3a95-464e-857c-acddae2df1ce"
   },
   "outputs": [
    {
     "name": "stdout",
     "output_type": "stream",
     "text": [
      "accuracy:99%\n"
     ]
    }
   ],
   "source": [
    "print(\"%s:%.2r%%\" % (model.metrics_names[1],scores[1]*100))"
   ]
  }
 ],
 "metadata": {
  "colab": {
   "collapsed_sections": [],
   "name": "FAILURE.ipynb",
   "provenance": []
  },
  "kernelspec": {
   "display_name": "Python 3",
   "language": "python",
   "name": "python3"
  },
  "language_info": {
   "codemirror_mode": {
    "name": "ipython",
    "version": 3
   },
   "file_extension": ".py",
   "mimetype": "text/x-python",
   "name": "python",
   "nbconvert_exporter": "python",
   "pygments_lexer": "ipython3",
   "version": "3.8.5"
  }
 },
 "nbformat": 4,
 "nbformat_minor": 1
}
